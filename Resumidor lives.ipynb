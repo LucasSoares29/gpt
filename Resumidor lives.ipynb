{
 "cells": [
  {
   "cell_type": "code",
   "execution_count": 1,
   "id": "b109c9f0",
   "metadata": {},
   "outputs": [
    {
     "name": "stdout",
     "output_type": "stream",
     "text": [
      "Collecting pydub\n",
      "  Obtaining dependency information for pydub from https://files.pythonhosted.org/packages/a6/53/d78dc063216e62fc55f6b2eebb447f6a4b0a59f55c8406376f76bf959b08/pydub-0.25.1-py2.py3-none-any.whl.metadata\n",
      "  Downloading pydub-0.25.1-py2.py3-none-any.whl.metadata (1.4 kB)\n",
      "Downloading pydub-0.25.1-py2.py3-none-any.whl (32 kB)\n",
      "Installing collected packages: pydub\n",
      "Successfully installed pydub-0.25.1\n"
     ]
    }
   ],
   "source": [
    "!pip install pydub"
   ]
  },
  {
   "cell_type": "code",
   "execution_count": 1,
   "id": "b3b26ee0",
   "metadata": {},
   "outputs": [],
   "source": [
    "import openai\n",
    "import os\n",
    "import re\n",
    "import json\n",
    "from pydub import AudioSegment"
   ]
  },
  {
   "cell_type": "code",
   "execution_count": 2,
   "id": "1dade5fa",
   "metadata": {},
   "outputs": [],
   "source": [
    "openai.api_key = os.getenv('OPEN_AI_KEY') # captura a API-key salva no ambiente de sistema"
   ]
  },
  {
   "cell_type": "markdown",
   "id": "e844ea1b",
   "metadata": {},
   "source": [
    "## Importa o audio da live"
   ]
  },
  {
   "cell_type": "code",
   "execution_count": 3,
   "id": "26ba84ee",
   "metadata": {},
   "outputs": [],
   "source": [
    "path_audio = \"Y:\\Transcription lives\\CONHEÇA O ULTIMO JOGO DE FORMULA INDY OFICIALMENTE LANÇADO - IndyCar Series 2005 (PS2).mp3\""
   ]
  },
  {
   "cell_type": "code",
   "execution_count": 4,
   "id": "c314d94f",
   "metadata": {},
   "outputs": [],
   "source": [
    "audio_file = open(path_audio, \"rb\")"
   ]
  },
  {
   "cell_type": "markdown",
   "id": "b762fd9f",
   "metadata": {},
   "source": [
    "## divida o arquivo em 10 partes iguais"
   ]
  },
  {
   "cell_type": "code",
   "execution_count": 5,
   "id": "f82cede0",
   "metadata": {},
   "outputs": [
    {
     "name": "stdout",
     "output_type": "stream",
     "text": [
      "Parte 1 do audio exportada com sucesso\n",
      "Parte 2 do audio exportada com sucesso\n",
      "Parte 3 do audio exportada com sucesso\n",
      "Parte 4 do audio exportada com sucesso\n",
      "Parte 5 do audio exportada com sucesso\n",
      "Parte 6 do audio exportada com sucesso\n",
      "Parte 7 do audio exportada com sucesso\n",
      "Parte 8 do audio exportada com sucesso\n",
      "Parte 9 do audio exportada com sucesso\n",
      "Parte 10 do audio exportada com sucesso\n"
     ]
    }
   ],
   "source": [
    "partes = []\n",
    "\n",
    "# Carregar o arquivo de áudio\n",
    "audio = AudioSegment.from_file(path_audio)\n",
    "\n",
    "# Duração total do áudio em milissegundos\n",
    "duration = len(audio)\n",
    "\n",
    "# Duração de cada parte do áudio\n",
    "part_duration = duration // 10\n",
    "\n",
    "# Dividir o áudio em 10 partes e salvar\n",
    "for part in range(10):\n",
    "    start_time = part * part_duration\n",
    "    end_time = (part + 1) * part_duration if (part < 9) else duration\n",
    "    new_clip = audio[start_time:end_time]\n",
    "    partes.append(new_clip)\n",
    "    new_clip.export(f\"Y:\\Transcription lives\\data\\part_{part+1}.mp3\", format=\"mp3\")\n",
    "    print(f\"Parte {part+1} do audio exportada com sucesso\")\n",
    "    \n",
    "# # Função para extrair o número da parte do nome do arquivo\n",
    "# def extract_part_number(file_path):\n",
    "#     match = re.search(r'part_(\\d+)', file_path)\n",
    "#     return int(match.group(1)) if match else 0\n",
    "\n",
    "# # Ordenar a lista usando a função personalizada\n",
    "# sorted_file_paths = sorted(partes, key=extract_part_number)\n",
    "# file_paths = partes.copy()"
   ]
  },
  {
   "cell_type": "code",
   "execution_count": 6,
   "id": "41341065",
   "metadata": {},
   "outputs": [
    {
     "data": {
      "text/plain": [
       "[<pydub.audio_segment.AudioSegment at 0x1f637981d90>,\n",
       " <pydub.audio_segment.AudioSegment at 0x1f618f3fc50>,\n",
       " <pydub.audio_segment.AudioSegment at 0x1f637acd5d0>,\n",
       " <pydub.audio_segment.AudioSegment at 0x1f637dea890>,\n",
       " <pydub.audio_segment.AudioSegment at 0x1f618fe7490>,\n",
       " <pydub.audio_segment.AudioSegment at 0x1f637d70bd0>,\n",
       " <pydub.audio_segment.AudioSegment at 0x1f637f67b50>,\n",
       " <pydub.audio_segment.AudioSegment at 0x1f6196afbd0>,\n",
       " <pydub.audio_segment.AudioSegment at 0x1f637f67c10>,\n",
       " <pydub.audio_segment.AudioSegment at 0x1f637f61a50>]"
      ]
     },
     "execution_count": 6,
     "metadata": {},
     "output_type": "execute_result"
    }
   ],
   "source": [
    "partes"
   ]
  },
  {
   "cell_type": "code",
   "execution_count": 7,
   "id": "65581f53",
   "metadata": {},
   "outputs": [],
   "source": [
    "# Diretório onde os arquivos MP3 estão localizados\n",
    "directory = 'Y:/Transcription lives/data'\n",
    "\n",
    "# Lista para armazenar os caminhos dos arquivos MP3\n",
    "mp3_files = []\n",
    "\n",
    "# Listar todos os arquivos no diretório\n",
    "for file in os.listdir(directory):\n",
    "    if file.endswith(\".mp3\"):\n",
    "        mp3_files.append(os.path.join(directory, file))"
   ]
  },
  {
   "cell_type": "markdown",
   "id": "b9b501e3",
   "metadata": {},
   "source": [
    "## Exportando a transcrição de cada parte\n",
    "Uma live de 2h vai custar aproximadamente $0,60 USD ~ $0,80 pra transcrever."
   ]
  },
  {
   "cell_type": "code",
   "execution_count": 8,
   "id": "1c992f59",
   "metadata": {},
   "outputs": [
    {
     "name": "stdout",
     "output_type": "stream",
     "text": [
      "Audio part_1.mp3 transcrito com sucesso\n",
      "Audio part_10.mp3 transcrito com sucesso\n",
      "Audio part_2.mp3 transcrito com sucesso\n",
      "Audio part_3.mp3 transcrito com sucesso\n",
      "Audio part_4.mp3 transcrito com sucesso\n",
      "Audio part_5.mp3 transcrito com sucesso\n",
      "Audio part_6.mp3 transcrito com sucesso\n",
      "Audio part_7.mp3 transcrito com sucesso\n",
      "Audio part_8.mp3 transcrito com sucesso\n",
      "Audio part_9.mp3 transcrito com sucesso\n"
     ]
    }
   ],
   "source": [
    "transcricoes = {}\n",
    "\n",
    "for mp3_file in mp3_files:\n",
    "    audio_file = open(mp3_file, \"rb\")\n",
    "    file_name = mp3_file.split('\\\\')[-1]\n",
    "    transcript = openai.Audio.transcribe(\"whisper-1\", audio_file, response_format=\"verbose_json\")\n",
    "    audio_transcription = transcript['text']\n",
    "    transcricoes[file_name] = audio_transcription\n",
    "    print(f\"Audio {file_name} transcrito com sucesso\")"
   ]
  },
  {
   "cell_type": "code",
   "execution_count": 9,
   "id": "ed3fd93a",
   "metadata": {},
   "outputs": [
    {
     "data": {
      "text/plain": [
       "{'part_1.mp3': '♪ ♪ ♪ ♪ Pra você ligado aqui no Fla Gamer, muito boa noite! E pra você, hoje nós temos Live Retro, é, Live Retro de novo, com IndyCar Series 2005. Esse simplesmente foi o último jogo oficial lançado da Fórmula Indy. Já vai fazer 20 anos ano que vem, ele foi lançado em 2004, 2004, por a volta disso, representando a temporada da IRL de 2003. Um jogo desenvolvido aí pela Codemasters, essa segunda versão que teve o IndyCar Series, o primeiro que até saiu pro PC, e esse segundo só saiu pro Playstation 2 e pro Xbox. E... ele é um jogo feito pela Codemasters e é um jogo difícil. Não vou confessar pra vocês não, hoje vocês vão ver aqui que o Fla Gamer, se ele completar uma corrida, vai ser um milagre. Porque ele é realmente um jogo que tende pro simulador, tanto é que eu tô de volante, consegui configurar o volante pro emulador do Playstation 2. Aliás, fica a dica, trava o volante em 180 graus quando tu for configurar pro emulador do Playstation 2, tá? Que era mais ou menos isso a rotação dos volantes da época. Vou falar, é um jogo que se você colocar na simulação total, você vai fazer gerência de combustível, você vai mexer no Wage Hacker, que altera o equilíbrio do carro nas pistas ovais. Então, é um jogo bastante tenso e complicado, mas a gente vai subir os níveis gradativamente. Aliás, já aproveitando, já agradecendo os membros do canal que patrocinam o nosso projeto. Se você quiser juntar com a gente, quer participar do grupo do WhatsApp do canal, é só você clicar aqui no botão embaixo, seja membro. O nosso clube de membros começa a partir de R$4,99 por mês e te dá direitos a participar da exclusiva corrida dos membros que premia gift cards mensais. Agora em outubro nós vamos ter grande prêmio dos Estados Unidos, vamos ter grande prêmio do México e grande prêmio do Catar. Três corridas que os membros vão correr que vai premiar a eles os gift cards mensais. Então, se você quiser patrocinar o projeto, é só você clicar aqui no botão embaixo, seja membro. Já respondendo o Super Migs, se aquele jogo da Fórmula Indy que ia sair esse ano não vai mais acontecer, não, a empresa praticamente quebrou. Vários problemas trabalhistas na época. Então, esse jogo, essa empresa não tá com boa situação financeira hoje em dia, então, em todo caso, é melhor a gente jogar o Indycar 2005. Tá sendo rodado no emulador. E aqui estão alguns modos de jogos interessantes, mas antes você tem que fazer algumas configurações. Primeiro aqui, temos a configuração de volante. Eu aumentei um pouco a sensibilidade porque eu achei que o padrão era o carro dianteiro e ele tava pouco sensível com relação com o que eu tava utilizando no volante. Outras opções também, você vai em tela e coloca o jogo pra 16 por 9, que esse é o padrão de tela hoje em dia. E aqui estão os controles das configurações do volante, onde você utiliza o X e o bolinha pra mexer na mistura de combustível, o quadrado e o triângulo pra mexer no Weight Tracker. E eu vou mostrando o que muda cada um dos níveis de dificuldade. Então, enfim, é um jogo bem tenso. Ah, eu vou botar um Quick Race. Eu vou mostrar pra vocês que, mesmo colocando no Easy aqui, vocês vão ver que não é tão fácil assim. No Easy ele tem uma... não tem danos e não tem esse consumo de combustível. No normal vai subindo, tem regras de corrida, tem danos simplificados. E no Pro você utiliza todos os recursos. Então nós vamos ver cada um dos três hoje. É, o tema da vitória sempre toca porque ele tá por padrão, mas obrigado por avisar, então já desliguei aí o tema da vitória. Bom, mas tirando essas explicações, eu vou deixar aqui na pista de mistura, eu vou mostrar os circuitos que tem aqui. No caso da IRL tem Kentucky, tem Gateway, tem Chicago, tem Motegi, Miami, a maioria é pistas ovais, que era o que corria a IRL nessa época. Mistos só vieram mesmo pra categoria em 2004. Essa versão 2005 só pro Play 2 e Xbox. A versão pro PC era o Indycar Series, o primeiro jogo, que era alguns anos atrás, que é muito parecido com esse. Mas enfim, basicamente é uma versão mais atualizada. É muito difícil fazer a corrida sem bater. Poxa, é complicadíssimo. Tem alguns glitches gráficos da emulação, mas ele é jogável. Tá tentando essa apresentação de volta de apresentação, mas não dá. E aí vai pra corrida. Não, hoje é offline. Nesse jogo não tem online, ele tá sendo rodado no emulador de Playstation 2. Esse é o nível fácil, que você não tem o gerenciamento de combustível e o Age Hacker. Daqui a pouco eu vou subir o nível dele, que vocês vão ver que a coisa vai começar a piorar ao ponto que o Flag Game é mais difícil de jogar. Daqui a pouco eu vou subir o nível dele, que vocês vão ver que a coisa vai começar a piorar ao ponto que o Flag Game eu não consegui completar uma volta. E aí vai a corrida. Se fosse no Nível Pro, eu já teria ido embora. Naquela primeira batida ali. Ó, o setup que o jogo me colocou como padrão, ele tá com o volante desalinhado, típico de oval. Com o meu volante reto, o meu carro tava virando um pouco pra direita. Com o meu volante reto, o meu carro tava virando um pouco pra direita. Ou seja, quem é bastante iniciante nesse jogo, e mesmo assim, no nível fácil, eu tô tendo dificuldade de chegar nos meus adversários ali pra tentar pegar um vácuo e escalar o pelotão. Porque nesse jogo você não tem bem um ajuste de nível de dificuldade. Você tem um ajuste de nível de simulação. Qual simulador você quer. Ou seja, pra quem é iniciante e tá no controle, tem que começar no Easy e ir se habituando com a dirigibilidade do carro pra poder subir os níveis, que eu vou fazer daqui a pouco. E eu vou me calar um pouco a boca pra vocês também ouvirem um pouco os spotters. Então, vamos lá. Você está 2,8 segundos atrás da linha de corrida. Você está 2,8 segundos atrás da linha de corrida. Você está 2,8 segundos atrás da linha de corrida. Qualquer toquezinho no muro que você dá, você perde bastante tempo. Você está 2,8 segundos atrás da linha de corrida. Esse jogo não tem um retrovisor virtual. Você tem que confiar realmente nas informações do spotter. E o vácuo aqui funciona bem. Se ele atrasa esse carro azul aqui... ganha bastante velocidade. Carro na frente, na frente. Ainda lá, ainda lá. Na frente, limpo. Carro na sua esquerda, dentro. Ainda lá, dentro. A 4ª, 5ª, 6ª marchas são muito próximas. Se você engata a 6ª e não está na velocidade certa... você perde velocidade. Então geralmente a 6ª marcha é usada aqui para você ultrapassar os outros. Carro na sua esquerda. Ainda lá, você está limpo. Você está 2,5 segundos atrás da linha de corrida. Você está 1 segundo atrás do Ray. Você está 1,2 segundos antes do Ray. Acesse o nosso site www.nobrexperiado.com Para mais vídeos acesse www.youtube.com Ative o sininho para receber notificações de novos vídeos.',\n",
       " 'part_10.mp3': 'R1 sobe a marcha e R2 desce a marcha. É, definitivamente é um jogo para jogar no controle. Eu achava que com o volante eu teria alguma vantagem. Eu acho que a dirigibilidade do controle é melhor nesse jogo. O carro está muito mais responsivo. É, definitivamente é um jogo para jogar no controle. Eu acho que com o volante eu teria alguma vantagem. É, definitivamente é um jogo para jogar no controle. Eu acho que com o volante eu teria alguma vantagem. É, definitivamente é um jogo para jogar no controle. Eu acho que com o volante eu teria alguma vantagem. É, definitivamente é bem melhor. O campeão de 2005 foi o Dan Weldon. Ele tem como consultar a Wikipédia agora para vocês conferirem. O campeão da 2005 foi o Dan Weldon. Ele tem como consultar a Wikipédia agora para vocês conferirem. É, definitivamente é um jogo para jogar no controle. Essa é a metade do ponto. Você está 12 segundos atrás do líder da corrida. Você está 0,1 segundo a frente do Gioffone. Você está 0,3 segundo atrás do Mira. Você está 0,3 segundo atrás do Mira. Você está 0,7 segundo atrás do Mira. Você está 0,3 segundo atrás do Carpenter. Essa foi a melhor corrida até agora. Você está 0,5 segundo atrás do Mira. E vocês vão sentir bem mais facilidade em pilotar o carro até pegarem o jeito do jogo. A experiência está muito melhor do que enquanto estava pilotando com o volante no decorrer dessa live. Essa foi a melhor corrida até agora. Essa foi a melhor corrida até agora. Essa foi a melhor corrida até agora. Essa foi a melhor corrida até agora. Você está agora no 17º lugar. Você está agora no 17º lugar. Você está agora no 17º lugar. Você está agora no 17º lugar. Você está agora no 17º lugar. Você está agora no 17º lugar. Você está agora no 17º lugar. Você está agora no 17º lugar. Você está agora no 17º lugar. Você está agora no 17º lugar. Mas ainda assim é um jogo difícil. Você está agora no 17º lugar. Você está agora no 17º lugar. Você está agora no 17º lugar. Você está agora no 17º lugar. Você está agora no 17º lugar. Você está agora no 17º lugar. Você está agora no 17º lugar. Interação strad refreshing Você está agora no 17º lugar.',\n",
       " 'part_2.mp3': 'Árvore branca saiu, é o último volto. Eu tô competindo ali por fora, não vá... Ai, mas não vai dar! Tá muito longe. Nível fácil basicamente é pra você se habituar com a jogabilidade. Vê quanto tempo você consegue ficar sem bater, que é um pouco complicado. Tem dois retrovisores na minha tela, mas às vezes são bem pequenos. Agora eu vou mudar o nível de dificuldade, vocês vão ver que vai mudar um pouco a dinâmica e até eu vou colocar inclusive mais voltas, um pouco mais de voltas. Vocês podem aí escolher o circuito. Ó, você pode correr desde 10 voltas, que é a distância mais curta, até a corrida completa, 20, quarto, metade, full. O vácuo puxa, Guilherme, a questão é que eu estava um pouco distante, aí eu não conseguia pegar o vácuo. Auditor atacage. Então, no modo fácil você não tem essa mudança de seta, de mudança de consumo de combustível. Agora você vai ter agora uma corrida com danos e regulamento, porém, ainda sem o consumo de combustível pneu. Você tem isso apenas no Pro. Eu estou mostrando de propósito os níveis de dificuldades um a um. Eu vou escolher um outro tipo de oval aqui. Vamos com um pequeno tanque. Agora, quem puder botar nos comentários para que serve o Age Hacker, isso me explica no Master Clássico, no modo tutorial do jogo, mas eu acabei esquecendo aqui. Nossa, mas é um triovalzinho bem largo. Quando começa a pilotar nesse detalhe, o carro está puxando à direita, ele não estava puxando ontem. Agora já tem um pouco de dano. Já quebrei a asa. Olha só! E não deu bandeira amarela. Essa é a diferença. Agora você tem um sistema de danos simplificado, você tem carro capotado aqui, inclusive. Só cai com bandeira verde, aí você está com completamente a corrida comprometida. E agora eu vou mostrar um pouco o que tem no modo profissional. Por isso que eu falei, para começar indo fácil, para você se habituar a correr sem bater. O Jairo chegou aqui na live, boa noite. Bom, teve um tempo em que eu realmente não estava conseguindo fazer vídeos, mas agora eu voltei. Pelo menos em parte, né? E aí, enfim, a jogabilidade é a mesma do 2002, não achei não. Agora no modo pro, é que você vai ver realmente que tem o consumo de combustível, desgaste pneu, todas as regras e os danos totais. Ou seja, bateu, acabou. É, as chaves pareciam boas, tem alguns cliques, tá? Aqui você tem até a classificação, vou até pular. Faz duas voltas e aí começa a corrida. Ó, agora você tem o consumo de combustível, você vai de 0 a 7, e ali você vê a quantidade de voltas que você tem ali, de consumo, né? Ó, um pequeno toque no muro e já foi embora a minha suspensão. A minha suspensão já foi embora, porque eu senti ó, nessa curva aqui o carro tá dianteiro, ó. Ó, você sai com o troço bem dianteiro. Aí você capota, fim de prova. É, o Tora Takahashi que competiu na Fórmula 1 no fim dos anos 90, exatamente. A marcha desse carro é manual, pode ser manual ou automática, isso você configura no jogo. Aqui tem o nível customizado, né, que você pode selecionar os tipos de danos, né? Eu vou colocar danos simples ou nenhum, só pra eu tentar sobreviver a corrida, mas eu vou deixar o desgaste de pneu. E aqui você pode configurar se você quer a posição do grid ou se você vai ter classificação. Repara que você não tem classificação aqui, ó. Mas eu vou deixar o desgaste pneu e você pode customizar, você não tem nível de dificuldade. Aqui. E acho que aqui também tem um sistema de cartas, também, Lewis. Vamos ver se eu consigo sobreviver a essa corrida aqui. Essa aqui tem que frear as curvas, é um ovalzinho mais curto. Opa, já deu a rodar, nossa senhora. Eu fui dar uma acelerada ali e você deixou dar um restart race. Pra você ver, não é um jogo fácil. Olha, eu odiava essa pista de gate. Acho que dá pra entender por quê. Eita, nossa, tá saindo de traseira, socorro! Nós perdemos o campeonato de 2002 aqui. É, é um dos poucos segundos que só vai ser preciso é dar uma freada. Nossa senhora, deu uma confusão ali. É, essas lagartas e movimentos são tensos principalmente que tem um atraso entre o momento que eu acelero e que de fato o carro acelera.',\n",
       " 'part_3.mp3': 'Você está a 0,4 segundos de frente ao Branchetti. Essa foi a sua melhor corrida até agora. O carro está dentro. Você está limpo. Você tomou 15 pontos. Você não pode virar! Você está queimando a rotatória! Como o tesouro saiu do meu som, agora? Você pode irse SIM. Você sabe que está ży ✕ Você pode irse SIM … você sabe que você vai ser tais como sendo bemAJUDADA ou aprofundada Sim, isso aconteceu a não ser que você não estivessemodo. O diabólico já está morto. Ele está muito farte. FIM Olá, meu nome é Dante Waller. Eu sou o R return do ano 2003. Bem-vindo ao Masterclass. Aqui é onde vai introduzir-se a série do vilão esportisvisual, mas também vai ver outros aspectos da série de indicações de corrida, como a estratégia de corrida, a consciência e o passeio. O objetivo é dar-lhe uma frente sobre seus competidores. Vamos começar com as básicas. É aqui que você aprenderá a fazer isso de verdade. Então é hora de desligar os assistentes de condução e se acostumar a trabalhar os sistemas manuais, como as motores, o interruptor de combustível e o jack de pesada. Você pode encontrar que... Toda corrida começa com o início de corrida, pois este é o jeito mais seguro de fazer todo mundo correr. Você tem que manter a formação durante o warm-up lapso. Esta formação é a ordem de qualificação. Se o tempo for menor do que o tempo anterior, você terá uma largada em movimento. Esta corrida está prestes a começar. Uma vez que o carro de passeio desliga, é só para que o piloto no pole acelere para a velocidade da corrida. Então todos os outros podem acelerar, esperando para o branco vermelho voar. Assim que o piloto do pole atravessa a linha de começo que a corrida está em. Lembre-se, no começo da corrida, você não pode passar até chegar à linha de começo, então mantenha uma distância. Este é o carro que você selecionou. Este piloto está em 2nd gear. Este é o branco vermelho. Quando as luzes chegarem no centro, o exausto vai começar a funcionar. Não mantenha o branco vermelho muito longe do motor. Dependendo do caminho e do equipamento do seu carro, você estará correndo em 5ª gear para a maioria da corrida. Você pode desligá-lo em 5ª marcha, se estiver bem. Tudo bem, o suficiente. Agora eu vou te ensinar o caminho. Este é um teste básico para fazer as ultrapassagens, e agora ele vai me deixar, finalmente, jogar. Este é um teste básico para fazer a partida, para que você saiba o que fazer quando está no pole. Isto também vai te dar uma chance de trabalhar através das gears. Uma vez que você estiver em seu caminho, eu vou te ensinar o caminho. Para mantê-lo ainda mais simples, nós vamos perder estes caras. Este é o primeiro cara que vai desligar as asas da pista. 3, 2, 1, vá! O Safety Car vai para o boxe. O Safety Car vai para o boxe. E aí você pode completar a sua volta. Caramba, eu acabei batendo no muro. Acho que não vai contar ali, porque... Bati com o carro no meio da reta, mano. 3, 2, 1, vá! 3, 2, 1, vá! Preste atenção. 3, 2, 1, vá! 3, 2, 1, vá! 3, 2, 1, vá! 3, 2, 1, vá! Parece que eu chego no 40.5 agora. Peguei com mais velocidade! Porra, bateu... Saiu de frente ali, não vireu bastante e acabou batendo. 3, 2, 1, vá! 3, 2, 1, vá! 3, 2, 1, vá! 3, 2, 1, vá! 3, 2, 1, vá! 3, 2, 1, vá! 3, 2, 1, vá! 3, 2, 1, vá! Porra, estou batendo direto, cara. Vou tentar de novo. 3, 2, 1, vá! Agora vai. 3, 2, 1, vá! 3, 2, 1, vá! 3, 2, 1, vá! 3, 2, 1, vá! 3, 2, 1, vá! 3, 2, 1, vá! 3, 2, 1, vá! 3, 2, 1, vá! Ótimo tempo. Ótimo uso da linha de corrida. Você tem o ouro. 3, 2, 1, vá! 3, 2, 1, vá! 3, 2, 1, vá! Ok, por agora você deve saber as básicas de manejamento de carro. Mas isso é apenas o começo. Você acha que pode descrever o que o seu carro se sente ao dirigir? Isso é importante se você vai ser um motorista de primeira classe. Em uma corrida de motocicleta, há muitas factores que afetam o manejamento do carro. Você não precisa saber todos os detalhes. Mas você precisa saber como esses fatores podem mudar o manejamento do seu carro durante o curso da corrida. Quando seus pneus se esgotam e seu carro se torna mais lento quando o combustível é usado, o manejamento muda. Seu carro pode começar a se sentir lento na parte de trás, que também é conhecida como oversteer. Ou você pode sentir como se seu carro estivesse puxando em direção à parede durante a corrida. Isso é algo que é importante saber.',\n",
       " 'part_4.mp3': 'Se seu carro sofreu de um deslizamento pesado, você teria que desligar muito para cada corda, o que não é competitivo. E se você não desligou, você teria que desligar. Igualmente, se seu carro sofreu de um deslizamento pesado, você não teria chance. Isso seria incontrolável. Você estaria cavando peixe em todo lugar. O que não é competitivo. Problemas de controle podem ser resolvidos facilmente. Na verdade, é importante que você esteja feliz com o controle antes de cada corrida, mas nós vamos cobrir isso na aula que vem. Então, o que você faz quando você instalou seu carro certo, mas o controle muda durante a corrida? Isso é o que o Wayjacker é para. Ele modifica a configuração do carro. Esse é o caminho que o piloto quer tomar. Basicamente, uma verdadeira aula de pilotagem que vocês estão vendo. Se o carro estivesse saindo de frente, o caminho que o piloto iria tomar seria mais assim. Se o carro estivesse saindo de frente, a direção que o piloto iria dar seria mais para a frente, fazendo-o instável. Se o piloto não saísse de traseira, a direção que o carro iria dar seria mais para a frente. O Wayjacker pode ser usado para fazer pequenas correções para o controle de oversteer e understeer. Os efeitos são subtis, então você não deveria se depender dele para completamente mudar o controle do seu carro. Mas é importante saber como funciona. Ao adicionar peso, você pode diminuir o oversteer. Então, se você adicionar peso, você diminui a saída de frente. E se você subtrair peso, você pode diminuir o oversteer. Você deveria fazer isso se o seu carro estiver saindo de frente. Ok, você entendeu? Ok, vamos começar. Outra habilidade importante. Você vai começar seguindo o carro de pressa como se estivesse em posição de pulso. Quando o carro de pressa descer, acelerar para a velocidade de corrida e depois completar três voltas completas. Ao completar cada volta, o limite de tempo se esgotará. Então, mantenha sua velocidade elevada. Ao completar três voltas completas, a cada volta o tempo se esgotará. Você já sentiu o carro sair um pouco de traseira logo no início? Você já sentiu o carro sair um pouco de traseira logo no início? Você vai ter que completar 42 voltas. Aí no outro vai completar 40. Aqui eu já tive que reduzir porque eu já estava saindo de frente. Não sei se eu vou conseguir bater o tempo dessa volta. Logo na segunda volta mudou completamente o comportamento do carro. É como se fosse uma barra estabilizadora esse Wayne Jacker. São mudanças bem sutis no carro. Ali como eu virei tarde... Acabou perdendo um pouco a velocidade. Aí na terceira volta eu não consegui bater o tempo. Aí na terceira volta eu não consegui bater o tempo. Um tempo. Bom trabalho. Isso é uma medalha de ouro. O que é isso? Em um mundo ideal, as traseiras nunca se esgotariam e você não precisaria refuelar. No IndyCar Series Racing, as traseiras só duram cerca de 60 voltas ou menos. E os motores de 675 cv de V8 quebram cerca de 2 galões de fio por volta. Então durante o curso de uma corrida, você tem que refuilar. E a questão é que você não consegue sair. Você não consegue sair. Seu fio está baixo. Você deveria refuilar na próxima corrida. Esse cara está prestes a fazer uma parada de refúgio. Ele vai refuilar sob um flago verde enquanto a corrida está em full swing. Ele está citando o exemplo que esse piloto vai parar em bandeira verde nesta volta. Ele está aconselhando que quando o líder parar nos boxes, você também para junto, independente da sua janela. Sábio chegando agora aqui na live. Muito boa noite. Este é o IndyCar Series 2005. Ele mostrando como é que funciona o pitch. O único momento que você não para quando o líder para é quando você está uma volta atrás. Quando você entrar no pitch, você tem que ter cuidado para não quebrar o limite de velocidade. Você não vai se salvar de qualquer momento ao acelerar, porque você vai ficar com a pele preta e você vai estourar mais da hora. Você vai entrar no pitch para servir a sua pena. Quando você está chegando na linha do pitch, foque no seu acelerador, fazendo com que você acelere em tempo. Apenas quando você entrar no pitch, você vai ver que o seu tempo está diminuindo. Tenha cuidado para não acelerar a tempo. Você tem que acelerar a linha do limite de velocidade do pitch exatamente para conseguir o pitch mais rápido. Quando você terminou o pitch, você vai querer sair e entrar na linha do pitch o mais rápido possível. Depois de sair do pitch, você pode acelerar. Fique no acelerador gentilmente ou você tem a probabilidade de acelerar. Ok. Para este teste, nós vamos simular uma parada de pitch inteira. Assim como antes, eu mostrei como acelerar a linha do limite de velocidade. Você vai começar no meio do pack e seu objetivo é entrar no pitch o mais rápido possível, lembrando que você não tem que acelerar a linha do limite de velocidade. Você vai começar no meio do pack e seu objetivo é entrar no pitch o mais rápido possível, lembrando que você não tem que acelerar a linha do limite de velocidade. Muito bem. 3, 2, 1, vá! 3, 2, 1, vá! 3, 2, 1, vá! 3, 2, 1, vá! 3, 2, 1, vá! 3, 2, 1, vá! 3, 2, 1, vá! 3, 2, 1, vá! 3, 2, 1, vá! 3, 2, 1, vá! 3, 2, 1, vá! Bem automatizado, bem caro de anos 2000.',\n",
       " 'part_5.mp3': 'Tudo de novo, tudo de novo, tudo de novo... Tudo de novo, tudo de novo, tudo de novo... Tudo de novo, tudo de novo, tudo de novo... Tudo de novo, tudo de novo, tudo de novo... Tudo de novo, tudo de novo, tudo de novo... Tudo de novo, tudo de novo, tudo de novo... La Vía de Anápolis A quarta runda da série nos leva para o final Quando você começa a classificação, você começa a dar 4 voltas, a média das voltas... É o que você vai tentar Vou botar pouquíssima gasolina Vamos lá! Parece que ficou um pouco melhor para virar. A primeira volta é só para você ganhar velocidade A primeira volta é só para você ganhar velocidade Mais 4 labos de qualificação para ir Mais 4 labos de qualificação para ir Mais 3 labos de qualificação para ir Mais 3 labos de qualificação para ir Mais 4 labos de qualificação para ir Mais 2 labos de qualificação para ir Seu combustível está baixo, você deve ir para o próximo labo Tendo que abaixar o meu consumo de combustível para ver se eu consigo fazer as 4 voltas Tendo que abaixar o meu consumo de combustível para ver se eu consigo fazer as 4 voltas Esta é a sua última labo de qualificação, empure-a para o máximo Seu combustível está baixo, você deve ir para o próximo labo Seu combustível está baixo, você deve ir para o próximo labo Relaxe Relaxe Relaxe Relaxe Relaxe Relaxe Relaxe Relaxe Relaxe Relaxe Relaxe Relaxe Relaxe Relaxe Relaxe Relaxe Relaxe Relaxe Relaxe Relaxe Relaxe Relaxe Relaxe Relaxe Relaxe Relaxe Relaxe Relaxe Relaxe Relaxe Relaxe Relaxe Relaxe Relaxe Relaxe Relaxe Relaxe Relaxe Relaxe Relaxe Relaxe Relaxe Relaxe Relaxe Relaxe Relaxe Relaxe Relaxe Relaxe Relaxe Relaxe Relaxe Relaxe Relaxe Relaxe Relaxe Relaxe Relaxe Relaxe Relaxe Relaxe Relaxe Relaxe Relaxe Relaxe Relaxe Relaxe Relaxe Relaxe Relaxe Relaxe Relaxe Relaxe Relaxe Relaxe Relaxe Relaxe Relaxe Relaxe Relaxe Relaxe Relaxe Relaxe Relaxe Relaxe Relaxe Relaxe Relaxe Relaxe Relaxe Relaxe Relaxe Relaxe Relaxe Relaxe Relaxe Relaxe Relaxe Relaxe Relaxe Relaxe Relaxe Relaxe Relaxe Relaxe Relaxe Relaxe Relaxe Relaxe Relaxe Relaxe Relaxe Relaxe Relaxe Relaxe Relaxe Relaxe Relaxe Relaxe Relaxe Relaxe Relaxe Relaxe Relaxe Relaxe Relaxe Relaxe Relaxe Relaxe Relaxe Relaxe Relaxe Relaxe Relaxe Relaxe Relaxe Relaxe Relaxe Relaxe Relaxe Relaxe Relaxe Relaxe Relaxe Relaxe Relaxe Relaxe Relaxe Relax',\n",
       " 'part_6.mp3': \"You're qualifying run starts next lap. Vou aumentar o consumo de combustível na próxima curva. Vou aumentar o tempo de curvinha. Vou aumentar o tempo de curvinha. Vou aumentar o tempo de curvinha. Vou aumentar o tempo de curvinha. Vou aumentar o tempo de curvinha. Vou aumentar o tempo de curvinha. Vou aumentar o tempo de curvinha. Vou aumentar o tempo de curvinha. Vou aumentar o tempo de curvinha. Vou aumentar o tempo de curvinha. Vou aumentar o tempo de curvinha. Vou aumentar o tempo de curvinha. Vou aumentar o tempo de curvinha. Vou aumentar o tempo de curvinha. Vou aumentar o tempo de curvinha. Vou aumentar o tempo de curvinha. Vou aumentar o tempo de curvinha. Vou aumentar o tempo de curvinha. Vou aumentar o tempo de curvinha. Vou aumentar o tempo de curvinha. Vou aumentar o tempo de curvinha. Vou aumentar o tempo de curvinha. Vou aumentar o tempo de curvinha. Vou aumentar o tempo de curvinha. Vou aumentar o tempo de curvinha. Vou aumentar o tempo de curvinha. Vou aumentar o tempo de curvinha. Vou aumentar o tempo de curvinha. Vou aumentar o tempo de curvinha. Vou aumentar o tempo de curvinha. Vou aumentar o tempo de curvinha. Vou aumentar o tempo de curvinha. Vou aumentar o tempo de curvinha. Vou aumentar o tempo de curvinha. Vou aumentar o tempo de curvinha. Vou aumentar o tempo de curvinha. Vou aumentar o tempo de curvinha. Vou aumentar o tempo de curvinha. Vou aumentar o tempo de curvinha. Vou aumentar o tempo de curvinha. Vou aumentar o tempo de curvinha. Vou aumentar o tempo de curvinha. Vou aumentar o tempo de curvinha. Vou aumentar o tempo de curvinha. Vou aumentar o tempo de curvinha. Vou aumentar o tempo de curvinha. Vou aumentar o tempo de curvinha. Vou aumentar o tempo de curvinha. Vou aumentar o tempo de curvinha. Vou aumentar o tempo de curvinha. Vou aumentar o tempo de curvinha. Vou aumentar o tempo de curvinha. Vou aumentar o tempo de curvinha. Vou aumentar o tempo de curvinha. Vou aumentar o tempo de curvinha. Vou aumentar o tempo de curvinha. Vou aumentar o tempo de curvinha. Vou aumentar o tempo de curvinha. Vou aumentar o tempo de curvinha. Vou aumentar o tempo de curvinha. Vou aumentar o tempo de curvinha. Vou aumentar o tempo de curvinha. Vou aumentar o tempo de curvinha. Vou aumentar o tempo de curvinha. Vou aumentar o tempo de curvinha. Vou aumentar o tempo de curvinha. Vou aumentar o tempo de curvinha. Vou aumentar o tempo de curvinha.\",\n",
       " 'part_7.mp3': 'Agora nós temos combustível até o fim. Ah, já foi verde. Botaram verde. Acho que eu botei combustível pra cacete. Dá uma queimada de combustível até lá. Ah, com o tanque cheio o carro ficou bem mais dianteiro. Nossa, eu botei combustível pra caramba. Tô lento e pesado. Dá pra torcer ainda pra uma outra amarela. É, fodeu minha asa. Bom, esse é um pouco das 500 milhas. Triste a situação. Mas é por aí. E tem o multiplayer aqui. Enfim, podia você escolher o split screen pra você correr com amigos. Ou online, que eu não sei como configura pro emulador. Mas é triste. Este fim. Vamos jogar um pouco com o MMO Tag. Vai mostrando mais alguns circuitos que tem neste jogo. Vamos provar o Largo e as câmeras que tem. O emulador é o EPS-X2, eu acho. E aí você se acaba aí na primeira volta. Deixa eu tirar os danos. Pelo menos aí eu consigo sobreviver 20 voltas. Um minutinho. Ué, mas aqui tá sem danos. Cars, não. Eu, hein. Vocês viram que tava sem danos? Só se for sem danos nos outros, né? Porque pra mim... É coisa de doido. Coisa doida. E aí Ainda dá pra pegar o vácuo de alguém. Época de ouro da Codemaster. É, enfim. Aqui ele tem uma última curva que é bem complicada. Essa parte de trás do circuito é um pouco mais fechadinha. E aí E aí E aí Eu não precisava 24, porque o pessoal foi embora. E aí E aí E aí E aí E aí E aí E aí E aí E aí E aí E aí E aí E aí E aí E aí E aí E aí E aí E aí Show de bola Correr com a câmera atrás do carro é melhor? Vamos ver Nós experimentamos correr com a câmera atrás do carro E aí E aí E ai E aí E aí E aí E aí E aí E aí E aí E aí E aí E aí E aí E aí E aí E aí E aí E aí E aí E aí E aí E aí E aí E aí E aí E aí E aí E aí E aí E aí E aí E aí E aí E aí E aí E aí E aí E aí E aí E aí E aí E aí E aí E aí E aí E aí E aí E aí E aí E aí E aí E aí E aí E aí E aí E aí E aí E aí E aí E aí E aí E aí E aí E aí E aí E aí E aí E aí E aí E aí E aí E aí E aí E aí E aí E aí E aí E aí E aí E aí E aí E aí E aí E aí E aí E aí E aí E aí E aí E aí E aí E aí E aí E aí E aí E aí E aí E aí E aí E aí E aí E aí E aí E aí E aí E aí E aí E aí E aí E aí E aí E aí E aí E aí E aí ',\n",
       " 'part_8.mp3': 'Este é o pus o outro sinal. Conversando com o讀 retornando para noz branca, was cinco minutos após o race. Você está a 4,2 segundos da frente das cintas. Você está 0,4 segundos atrás dos parches. Você está 0,3 segundos à frente da mira. Você está 0,3 segundos atrás da linha da corrida. Você está 3,7 segundos atrás da linha da corrida. Você está 3,7 segundos atrás da linha da corrida. Você está 3,7 segundos atrás da linha da corrida. Você está 3,7 segundos atrás da linha da corrida. Você está 3,7 segundos atrás da linha da corrida. Você está 3,7 segundos atrás da linha da corrida. Você está 3,7 segundos atrás da linha da corrida. Você está 3,7 segundos atrás da linha da corrida. Você está 3,7 segundos atrás da linha da corrida. Você está 3,7 segundos atrás da linha da corrida. Essa foi a melhor corrida até agora. Se seu combustível está baixo, você deve parar na próxima corrida. Você está 3,7 segundos atrás da linha da corrida. Se seu combustível está baixo, você deve parar na próxima corrida. Você está 3,7 segundos atrás da linha da corrida. Cuidado com a velocidade na corrida. Mantenha-a abaixo de 60. Cuidado com a velocidade na corrida. Mantenha-a abaixo de 60. Esse é o ponto metade. Esse é o ponto metade. Esse é o ponto metade. Cuidado com a velocidade na corrida. Mantenha-a abaixo de 60. Esse é o ponto metade. Esse é o ponto metade. Você está 1,5 segundos atrás da linha da corrida. Você está 7,4 segundos atrás da linha da corrida. Você está 7,4 segundos atrás da linha da corrida. Você está 8,4 segundos atrás da linha da corrida. Quando nosso seu combustível está baixo, você deve parar na próxima corrida. Você está 8,4 segundos atrás da linha da corrida. Você está 8,4 segundos atrás da linha da corrida. Você está ... ember Você está 8,4 segundos atrás da linha da corrida. Você está 8,4 segundos atrás da linha da corrida. Você está 8,4 segundos atrás da linha da corrida. Você está 8,4 segundos atrás da linha da corrida. Essa foi a sua melhor corrida até agora. Seu combustível está baixo, você deve parar na próxima corrida. Você está 3,6 segundos atrás da linha da corrida. Você está 4,5 segundos atrás da linha da corrida. Você está 7,9 segundos atrás da linha da corrida. Seu combustível está baixo, você deve parar na próxima corrida. Você pegou o primeiro lugar. Cuidado com a velocidade na corrida, mantenha-a abaixo de 60. Seu combustível está baixo, mantenha-a abaixo de 60.',\n",
       " 'part_9.mp3': 'Deu pra chegar no Pit Stop. Apesar que o pessoal perdeu uma eternidade aí nesse Pit. Já vai percorrer por aqui, amigo. Meu Deus. Ah, ganhei tempo no Pit, ó. Mas não adiantou nada. O branco está fora. Esta é a última pista. Enfim, a pista é um cocô. A corrida foi um cocô. É mais ou menos... Essa é Pikes Peak. Vou mostrar pra vocês aí onde vocês podem baixar o IndyCarSeries. O link está na descrição do vídeo. Então, até a próxima. Tchau, tchau. Dessa vez eu vou começar no meio do pelotão pra... provocar... a zoeira que vai ser com o Hélio. Bom, coloquei os links nos comentários onde vocês podem tentar baixar o IndyCarSeries 1. Se funcionar, vocês me avisam. Opa! Ai, meu Deus. Encerrou desde a largada. Eita! Nossa Senhora! Virei... boliche de Hélio. Nossa Senhora. Tem direito aqui. É o Hélio de hoje. Nossa Senhora, eu já tomei uma volta. Eu nem larguei. Larguei agora. Meu Deus! Meu Deus do céu! O que eu provoquei? Ai! Que volta! Até você pegar a velocidade. Agora pra recuperar uma volta atrás vai ser um problema. A gente não avisa que os outros vão parar, não. A gente não avisa que os outros vão parar, não. Essa foi a sua melhor volta até agora. Seu combustível está baixo. Você deveria pegar a próxima volta. Você está 19 segundos atrás da lista de corrida. Você está em segundo lugar. Você está em meio ponto de espera. Seu combustível está baixo. Você deveria pegar a próxima volta. Você pegou o primeiro lugar. Cuidado com sua velocidade. Ombro, mantenha sua velocidade baixa. Cuidado com sua velocidade. Ombro, mantenha sua velocidade baixa. Você está 4,4 segundos de frente de Nixon. Você deveria pegar a próxima volta. Você deveria pegar a próxima volta. Você deveria pegar a próxima volta. Você deveria pegar a próxima volta. Finalmente! osphere, vá! Perfeito! Eita! Virou um festival de batida! É, esse morreu. Ou seja, é o último jogo de videogame que você pode correr em Nazaré. Vem! É tenso. Esse cara bateu e ainda me passou. Schiffer, não vou passar por você! Não?!?! Nele! A elede, eu vou ter que achar um alguém visível... Pare! Bem, mal entendeu? Mas você vai ficar inteiro. Sem fome, não. Definitivamente, sim. Ah, eu vou te falar como é que é um pouco a jogabilidade... no controle. Não sei se tem algum controle em promoção aqui. Ah, não sei, mas tem em promoção aqui um powerline, ó, pessoal que gosta de jogar Wi-Fi no Playstation. Ah, não pode passar a cabe de rede, então compra esse powerline, põe na tomada, você transforma a tua energi... a tua... rede elétrica em ponto de internet. Aí não tem desculpa pra tu jogar sem fio. Então, com esse kit EthernLine, por apenas... 410 reais, você pode... transformar as tomadas num ponto de rede. Opa! Ó, se é R2, sobe... sobe a marcha. Legendas pela comunidade Amara.org'}"
      ]
     },
     "execution_count": 9,
     "metadata": {},
     "output_type": "execute_result"
    }
   ],
   "source": [
    "transcricoes"
   ]
  },
  {
   "cell_type": "markdown",
   "id": "8ff60c03",
   "metadata": {},
   "source": [
    "## Exportar o dicionário para um arquivo JSON"
   ]
  },
  {
   "cell_type": "code",
   "execution_count": 11,
   "id": "664fb442",
   "metadata": {},
   "outputs": [],
   "source": [
    "with open(\"Y:/Transcription lives/data/transcription.json\", 'w', encoding='utf-8') as json_file:\n",
    "    json.dump(transcricoes, json_file, ensure_ascii=False, indent=4)"
   ]
  },
  {
   "cell_type": "markdown",
   "id": "39afdf7e",
   "metadata": {},
   "source": [
    "## Agora vai resumir cada parte e exportar em texto\n",
    "Resumir as 10 partes da live custou aproximadamente USD 0,30"
   ]
  },
  {
   "cell_type": "code",
   "execution_count": 13,
   "id": "91b62844",
   "metadata": {},
   "outputs": [],
   "source": [
    "system_msg = \"Sua missão é resumir e listar os principais pontos que o Flagamer mencionou em cada parte da live em forma de um texto impessoal e predominantemente descritivo. Se não conseguir transcrever, apenas retorne Infelizmente esta parte não pode ser transcrita\""
   ]
  },
  {
   "cell_type": "code",
   "execution_count": 14,
   "id": "8b2d4f6c",
   "metadata": {},
   "outputs": [
    {
     "name": "stdout",
     "output_type": "stream",
     "text": [
      "Resumo da parte part_1.mp3 gerado com sucesso\n",
      "Resumo da parte part_10.mp3 gerado com sucesso\n",
      "Resumo da parte part_2.mp3 gerado com sucesso\n",
      "Resumo da parte part_3.mp3 gerado com sucesso\n",
      "Resumo da parte part_4.mp3 gerado com sucesso\n",
      "Resumo da parte part_5.mp3 gerado com sucesso\n",
      "Resumo da parte part_6.mp3 gerado com sucesso\n",
      "Resumo da parte part_7.mp3 gerado com sucesso\n",
      "Resumo da parte part_8.mp3 gerado com sucesso\n",
      "Resumo da parte part_9.mp3 gerado com sucesso\n",
      "Resumo da live gerado com sucesso\n"
     ]
    }
   ],
   "source": [
    "output_texto = open(\"Y:\\Transcription lives\\data\\output.txt\", \"w\")\n",
    "\n",
    "for chave, valor in transcricoes.items():\n",
    "    user_msg = f\"{valor}\"\n",
    "    output_texto.write(f\"Resumo {chave}\\n:\")\n",
    "    response = openai.ChatCompletion.create(model=\"gpt-4\",\n",
    "                                       messages=[{\"role\": \"system\", \"content\":system_msg},\n",
    "                                                {\"role\": \"user\", \"content\":user_msg}],\n",
    "                                       temperature=0.25)\n",
    "    output_texto.write(response[\"choices\"][0][\"message\"][\"content\"])\n",
    "    output_texto.write(\"\\n\")\n",
    "    print(f\"Resumo da parte {chave} gerado com sucesso\")\n",
    "    \n",
    "output_texto.close()\n",
    "print(\"Resumo da live gerado com sucesso\")"
   ]
  },
  {
   "cell_type": "markdown",
   "id": "422689dd",
   "metadata": {},
   "source": [
    "## Agora vai pegar essas 10 partes e fazer um texto corrido"
   ]
  },
  {
   "cell_type": "code",
   "execution_count": 17,
   "id": "f463cf8f",
   "metadata": {},
   "outputs": [],
   "source": [
    "output_texto = open(\"Y:\\Transcription lives\\data\\output.txt\", \"r\")\n",
    "texto_corrido = output_texto.readlines()\n",
    "texto = ''.join(texto_corrido)"
   ]
  },
  {
   "cell_type": "code",
   "execution_count": 18,
   "id": "be6888b8",
   "metadata": {},
   "outputs": [
    {
     "data": {
      "text/plain": [
       "'Resumo part_1.mp3\\n:Flagamer inicia a live retro com o jogo \"IndyCar Series 2005\", destacando que este foi o último jogo oficial da Fórmula Indy, lançado em 2004 e representando a temporada de 2003 da IRL. Desenvolvido pela Codemasters, o jogo é descrito como difícil e tendendo ao simulador, com gerenciamento de combustível e ajustes no equilíbrio do carro.\\n\\nEle menciona que está jogando com um volante configurado para o emulador do Playstation 2, recomendando travar o volante em 180 graus para uma experiência mais autêntica. Agradece aos membros do canal e convida novos espectadores a se tornarem membros, destacando benefícios como participação em corridas exclusivas com premiação de gift cards mensais.\\n\\nFlagamer responde a uma pergunta sobre um novo jogo da Fórmula Indy que não será lançado devido a problemas financeiros da empresa desenvolvedora. Ele explica as configurações iniciais do jogo, como ajuste de sensibilidade do volante e configuração da tela para 16:9.\\n\\nO jogo possui diferentes níveis de dificuldade: Easy, Normal e Pro, cada um com suas próprias características e desafios. Ele destaca que, mesmo no nível Easy, o jogo não é simples, e no Pro, todos os recursos de simulação são utilizados.\\n\\nFlagamer mostra os circuitos disponíveis, majoritariamente ovais, e comenta sobre a dificuldade de completar uma corrida sem bater. Ele menciona alguns glitches gráficos devido à emulação, mas afirma que o jogo é jogável.\\n\\nDurante a corrida, ele observa que o volante está desalinhado, típico de pistas ovais, e comenta sobre a dificuldade de alcançar os adversários para pegar o vácuo. Ele explica que o jogo não possui ajuste de nível de dificuldade, mas sim de nível de simulação, recomendando que iniciantes comecem no Easy.\\n\\nFlagamer destaca a importância das informações do spotter, já que o jogo não possui retrovisor virtual, e comenta sobre a funcionalidade do vácuo e a proximidade das marchas superiores. Ele finaliza a parte transcrita da live mencionando a importância de estar na velocidade certa ao engatar a 6ª marcha para não perder velocidade.\\n\\nResumo part_10.mp3\\n:Durante a live, Flagamer mencionou os seguintes pontos principais:\\n\\n1. **Controles do Jogo**:\\n   - R1 é usado para subir a marcha e R2 para descer a marcha.\\n   - Afirmou repetidamente que o jogo é melhor jogado com um controle em vez de um volante, destacando que a dirigibilidade com o controle é superior e o carro está mais responsivo.\\n\\n2. **Campeonato de 2005**:\\n   - Mencionou que Dan Weldon foi o campeão de 2005 e sugeriu que os espectadores consultassem a Wikipédia para confirmar essa informação.\\n\\n3. **Desempenho na Corrida**:\\n   - Forneceu atualizações sobre a posição na corrida, mencionando várias vezes que estava em 17º lugar.\\n   - Indicou a diferença de tempo em relação a outros pilotos, como estar 12 segundos atrás do líder, 0,1 segundo à frente de Gioffone, e 0,3 segundo atrás de Mira e Carpenter.\\n   - Repetiu várias vezes que a corrida atual foi a melhor até o momento.\\n\\n4. **Experiência de Jogo**:\\n   - Comentou que a experiência de pilotar com o controle foi muito melhor do que com o volante durante a live.\\n   - Afirmou que o jogo é difícil, mas que os jogadores sentirão mais facilidade em pilotar o carro à medida que se acostumarem com o jogo.\\n\\n5. **Interação com o Público**:\\n   - Houve uma menção à interação com o público, embora não tenha sido detalhada no texto.\\n\\nResumo part_2.mp3\\n:Durante a live, Flagamer abordou diversos aspectos do jogo de corrida que estava jogando. Aqui estão os principais pontos mencionados:\\n\\n1. **Nível de Dificuldade Fácil**:\\n   - Serve para os jogadores se habituarem com a jogabilidade.\\n   - O objetivo é ver quanto tempo se consegue ficar sem bater.\\n   - Possui dois retrovisores na tela, mas são pequenos.\\n   - Não há mudança de seta ou consumo de combustível.\\n\\n2. **Mudança de Nível de Dificuldade**:\\n   - Flagamer decidiu aumentar a dificuldade e adicionar mais voltas.\\n   - Explicou que o nível fácil não inclui danos ou regulamentos complexos.\\n   - No modo intermediário, há danos e regulamentos, mas ainda sem consumo de combustível e desgaste de pneus.\\n\\n3. **Escolha de Circuito e Configurações**:\\n   - Permite escolher entre diferentes números de voltas, de 10 até a corrida completa.\\n   - Comentou sobre a importância do vácuo nas corridas.\\n   - Escolheu um novo tipo de oval para a corrida.\\n\\n4. **Sistema de Danos Simplificado**:\\n   - No modo intermediário, o sistema de danos é simplificado.\\n   - Mostrou que o carro pode capotar e que a corrida pode ser comprometida sem bandeira amarela.\\n\\n5. **Modo Profissional**:\\n   - Inclui consumo de combustível, desgaste de pneus, todas as regras e danos totais.\\n   - Qualquer batida pode acabar com a corrida.\\n   - A jogabilidade é mais complexa e realista.\\n\\n6. **Configurações Personalizadas**:\\n   - Permite selecionar tipos de danos e se quer ou não desgaste de pneus.\\n   - Pode configurar a posição do grid e se haverá classificação.\\n   - Mencionou a existência de um sistema de cartas no jogo.\\n\\n7. **Desafios e Dificuldades**:\\n   - Demonstrou que o jogo não é fácil, especialmente em pistas mais complicadas.\\n   - Comentou sobre a dificuldade de controlar o carro em curvas e a necessidade de frear.\\n   - Relatou problemas com a traseira do carro saindo de controle e a confusão causada por isso.\\n\\n8. **Interação com o Público**:\\n   - Respondeu a perguntas dos espectadores sobre o jogo.\\n   - Explicou detalhes técnicos e históricos, como a participação de Tora Takahashi na Fórmula 1.\\n\\nFlagamer forneceu uma visão detalhada das diferentes dificuldades e mecânicas do jogo, além de compartilhar suas experiências e desafios durante a live.\\n\\nResumo part_3.mp3\\n:Infelizmente esta parte não pode ser transcrita.\\n\\nResumo part_4.mp3\\n:Durante a live, Flagamer abordou diversos aspectos técnicos e práticos relacionados ao controle e ajustes de carros de corrida, especialmente em contextos de simulação como o IndyCar Series 2005. Aqui estão os principais pontos mencionados:\\n\\n1. **Deslizamento e Controle do Carro**:\\n   - Deslizamentos pesados tornam o carro incontrolável e não competitivo.\\n   - É crucial estar satisfeito com o controle do carro antes de cada corrida.\\n   - Problemas de controle podem ser resolvidos facilmente com ajustes adequados.\\n\\n2. **Uso do Wayjacker**:\\n   - O Wayjacker é utilizado para modificar a configuração do carro durante a corrida.\\n   - Ele ajuda a fazer pequenas correções no controle de oversteer (saída de traseira) e understeer (saída de frente).\\n   - Adicionar peso pode diminuir o oversteer, enquanto subtrair peso pode diminuir o understeer.\\n\\n3. **Técnicas de Corrida**:\\n   - Importância de seguir o carro de pressa e acelerar para a velocidade de corrida.\\n   - Completar voltas dentro do limite de tempo é essencial para manter a competitividade.\\n   - Mudanças no comportamento do carro podem ocorrer durante a corrida, exigindo ajustes contínuos.\\n\\n4. **Paradas de Pit Stop**:\\n   - Pneus duram cerca de 60 voltas e o consumo de combustível é alto, necessitando reabastecimento durante a corrida.\\n   - Parar nos boxes junto com o líder é uma estratégia recomendada, exceto se estiver uma volta atrás.\\n   - Respeitar o limite de velocidade no pit stop é crucial para evitar penalidades.\\n   - Acelerar suavemente ao sair do pit stop para evitar derrapagens.\\n\\n5. **Simulação de Parada de Pit Stop**:\\n   - O objetivo é entrar e sair do pit stop o mais rápido possível, respeitando os limites de velocidade.\\n   - A prática envolve começar no meio do pack e realizar a parada de pit stop de forma eficiente.\\n\\nFlagamer enfatizou a importância de ajustes sutis e contínuos no carro para manter a competitividade e a necessidade de estratégias bem planejadas durante as corridas.\\n\\nResumo part_5.mp3\\n:Infelizmente esta parte não pode ser transcrita.\\n\\nResumo part_6.mp3\\n:Infelizmente esta parte não pode ser transcrita.\\n\\nResumo part_7.mp3\\n:Infelizmente esta parte não pode ser transcrita.\\n\\nResumo part_8.mp3\\n:Infelizmente esta parte não pode ser transcrita.\\n\\nResumo part_9.mp3\\n:Infelizmente esta parte não pode ser transcrita.\\n'"
      ]
     },
     "execution_count": 18,
     "metadata": {},
     "output_type": "execute_result"
    }
   ],
   "source": [
    "texto"
   ]
  },
  {
   "cell_type": "code",
   "execution_count": 27,
   "id": "cf0e2046",
   "metadata": {},
   "outputs": [],
   "source": [
    "system_msg = \"Sua missão é fazer um texto corrido de até 2000 caracteres sobre os principais pontos das 10 partes da live com estilo de texto descritivo. A parte 10 da live deve ser obrigatoriamente o parágrafo final do texto\""
   ]
  },
  {
   "cell_type": "code",
   "execution_count": 28,
   "id": "abf8f7ec",
   "metadata": {},
   "outputs": [],
   "source": [
    "user_msg = f\"{texto}\"\n",
    "response = openai.ChatCompletion.create(model=\"gpt-4o\",\n",
    "                                   messages=[{\"role\": \"system\", \"content\":system_msg},\n",
    "                                            {\"role\": \"user\", \"content\":user_msg}],\n",
    "                                   temperature=0.6)"
   ]
  },
  {
   "cell_type": "code",
   "execution_count": 29,
   "id": "6a4d52c1",
   "metadata": {},
   "outputs": [
    {
     "name": "stdout",
     "output_type": "stream",
     "text": [
      "A live de Flagamer dedicada ao jogo \"IndyCar Series 2005\" começou com uma introdução ao contexto histórico do jogo, que foi o último título oficial da Fórmula Indy, lançado em 2004 e representando a temporada de 2003 da IRL. Desenvolvido pela Codemasters, o jogo é conhecido por sua dificuldade e tendência ao simulador, exigindo gerenciamento de combustível e ajustes no equilíbrio do carro. Flagamer destacou a configuração do volante para o emulador do Playstation 2, recomendando travá-lo em 180 graus para uma experiência mais autêntica. Ele também agradeceu aos membros do canal e incentivou novos espectadores a se tornarem membros, destacando benefícios como participação em corridas exclusivas com premiação de gift cards mensais.\n",
      "\n",
      "Ao explorar o jogo, Flagamer explicou as configurações iniciais, como ajuste de sensibilidade do volante e configuração da tela para 16:9. Ele detalhou os diferentes níveis de dificuldade - Easy, Normal e Pro - e destacou que, mesmo no nível Easy, o jogo não é simples. Durante a corrida, observou que o volante estava desalinhado, típico de pistas ovais, e comentou sobre a dificuldade de alcançar os adversários para pegar o vácuo. A importância das informações do spotter foi ressaltada, pois o jogo não possui retrovisor virtual.\n",
      "\n",
      "Na parte intermediária da live, Flagamer abordou aspectos técnicos e práticos relacionados ao controle e ajustes dos carros. Ele mencionou a importância de estar satisfeito com o controle do carro antes de cada corrida e a utilização do Wayjacker para modificar a configuração durante a corrida, ajudando a fazer correções no controle de oversteer e understeer. Também destacou a estratégia de paradas de pit stop, onde pneus duram cerca de 60 voltas e o consumo de combustível é alto, necessitando reabastecimento durante a corrida.\n",
      "\n",
      "Ao longo da live, Flagamer interagiu com o público, respondendo perguntas sobre o jogo e explicando detalhes técnicos e históricos. Ele mencionou, por exemplo, a participação de Tora Takahashi na Fórmula 1. Além disso, ele abordou a experiência de pilotar com o controle, afirmando que é superior ao volante em termos de dirigibilidade e resposta do carro.\n",
      "\n",
      "No final da transmissão, Flagamer mencionou que Dan Weldon foi o campeão de 2005 e sugeriu que os espectadores confirmassem essa informação na Wikipédia. Durante a corrida, ele forneceu atualizações sobre sua posição, mencionando várias vezes que estava em 17º lugar e destacando a diferença de tempo em relação a outros pilotos. Ele reiterou que a experiência de pilotar com o controle foi muito melhor do que com o volante e concluiu afirmando que, embora o jogo seja difícil, os jogadores sentirão mais facilidade em pilotar o carro à medida que se acostumarem com o jogo.\n"
     ]
    }
   ],
   "source": [
    "print(response[\"choices\"][0][\"message\"][\"content\"])"
   ]
  },
  {
   "cell_type": "code",
   "execution_count": 30,
   "id": "05a36526",
   "metadata": {},
   "outputs": [],
   "source": [
    "output_texto.close()\n",
    "with open(\"Y:/Transcription lives/data/output.txt\", \"a\") as texto:\n",
    "    texto.write('\\n'+ response[\"choices\"][0][\"message\"][\"content\"] + '\\n')"
   ]
  },
  {
   "cell_type": "code",
   "execution_count": null,
   "id": "1d6767cc",
   "metadata": {},
   "outputs": [],
   "source": []
  }
 ],
 "metadata": {
  "kernelspec": {
   "display_name": "Python 3 (ipykernel)",
   "language": "python",
   "name": "python3"
  },
  "language_info": {
   "codemirror_mode": {
    "name": "ipython",
    "version": 3
   },
   "file_extension": ".py",
   "mimetype": "text/x-python",
   "name": "python",
   "nbconvert_exporter": "python",
   "pygments_lexer": "ipython3",
   "version": "3.11.4"
  }
 },
 "nbformat": 4,
 "nbformat_minor": 5
}
