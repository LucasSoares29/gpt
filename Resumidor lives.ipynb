{
 "cells": [
  {
   "cell_type": "code",
   "execution_count": 9,
   "id": "b3b26ee0",
   "metadata": {},
   "outputs": [],
   "source": [
    "import os\n",
    "import re\n",
    "import json\n",
    "from pydub import AudioSegment\n",
    "import librosa\n",
    "from openai import OpenAI\n",
    "import numpy as np\n",
    "import pandas as pd"
   ]
  },
  {
   "cell_type": "code",
   "execution_count": 5,
   "id": "1dade5fa",
   "metadata": {},
   "outputs": [],
   "source": [
    "client = OpenAI(api_key=os.getenv('OPEN_AI_KEY'))"
   ]
  },
  {
   "cell_type": "markdown",
   "id": "e844ea1b",
   "metadata": {},
   "source": [
    "## Importa o audio da live"
   ]
  },
  {
   "cell_type": "code",
   "execution_count": 6,
   "id": "26ba84ee",
   "metadata": {},
   "outputs": [],
   "source": [
    "path_audio = \"Y:\\Transcription lives\\live_Enthusia_Professional_Racing_voice_isolation.mp3\""
   ]
  },
  {
   "cell_type": "markdown",
   "id": "82ffa2b9",
   "metadata": {},
   "source": [
    "## Faz a edição dos trechos em silencio"
   ]
  },
  {
   "cell_type": "code",
   "execution_count": 10,
   "id": "34363b83",
   "metadata": {},
   "outputs": [
    {
     "name": "stdout",
     "output_type": "stream",
     "text": [
      "Trechos com dialogos:\n",
      "          Inicio          Fim\n",
      "0       0.597333   147.829333\n",
      "1     150.165333   164.298667\n",
      "2     167.616000   167.626667\n",
      "3     174.794667   176.458667\n",
      "4     185.749333   188.213333\n",
      "..           ...          ...\n",
      "391  4426.112000  4431.797333\n",
      "392  4435.018667  4436.608000\n",
      "393  4440.032000  4462.442667\n",
      "394  4467.968000  4483.040000\n",
      "395  4486.709333  4490.080000\n",
      "\n",
      "[396 rows x 2 columns]\n"
     ]
    }
   ],
   "source": [
    "# Extrair o audio a partir do video\n",
    "audio_clip = AudioSegment.from_file(path_audio, \"mp3\")\n",
    "\n",
    "# Capturar a taxa de amostragem (sample rate) do áudio\n",
    "sample_rate = audio_clip.frame_rate\n",
    "\n",
    "# Caminho para salvar o arquivo de áudio extraído temporariamente\n",
    "temp_audio_path = './temp_audio.wav'\n",
    "\n",
    "# Exportar o áudio para um arquivo temporário\n",
    "audio_clip.export(temp_audio_path, format=\"wav\")\n",
    "\n",
    "# Carregar o arquivo de áudio temporário com librosa\n",
    "y, sr = librosa.load(temp_audio_path, sr=sample_rate)  # y é o sinal de áudio, sr é a taxa de amostragem\n",
    "\n",
    "# Calcular a energia do sinal de áudio (pode ser usado como uma proxy para volume)\n",
    "energy = librosa.feature.rms(y=y)\n",
    "\n",
    "# Definir um limiar de energia para considerar como silêncio\n",
    "# quanto menor o valor, mais sensível será a detecção de silêncio. Logo terá trechos mais longos de diálogos.\n",
    "threshold = 0.005  \n",
    "\n",
    "# Encontrar os frames que estão acima do limiar de energia\n",
    "non_silent_frames = np.nonzero(energy > threshold)[1]\n",
    "\n",
    "# Converter os frames para tempos de início e fim dos trechos não silenciosos\n",
    "non_silent_times = librosa.frames_to_time(non_silent_frames, sr=sr)\n",
    "\n",
    "# definir tolerancia do que é silencio (em segundos) pra não cortar falas.\n",
    "tolerancia_silencio = 2\n",
    "\n",
    "# Criar uma tabela para armazenar os trechos não silenciosos\n",
    "tabela_trechos_naosilenciosos = pd.DataFrame()\n",
    "\n",
    "\n",
    "# Agrupar os tempos em segmentos contínuos de áudio não silencioso\n",
    "non_silent_segments = []\n",
    "start_time = non_silent_times[0]\n",
    "for i in range(1, len(non_silent_times)):\n",
    "    if non_silent_times[i] > non_silent_times[i - 1] + tolerancia_silencio:\n",
    "        end_time = non_silent_times[i - 1]\n",
    "        non_silent_segments.append((start_time, end_time))\n",
    "        start_time = non_silent_times[i]\n",
    "\n",
    "# Adicionar o último segmento\n",
    "non_silent_segments.append((start_time, non_silent_times[-1]))\n",
    "\n",
    "# Imprimir os segmentos não silenciosos\n",
    "for start_time, end_time in non_silent_segments:\n",
    "    pd_linha = pd.DataFrame(data={'Inicio': [start_time],\n",
    "                                  'Fim': [end_time]})\n",
    "\n",
    "    tabela_trechos_naosilenciosos = pd.concat([tabela_trechos_naosilenciosos, pd_linha],\n",
    "                                              axis=0,\n",
    "                                              ignore_index=True)\n",
    "\n",
    "print(\"Trechos com dialogos:\")\n",
    "print(tabela_trechos_naosilenciosos)\n",
    "os.remove(temp_audio_path)\n",
    "\n",
    "# Salvando os trechos não silenciosos em um arquivo de áudio\n",
    "# Inicializar um áudio segmento vazio para concatenar os trechos\n",
    "combined_audio = AudioSegment.silent(duration=0)\n",
    "\n",
    "# Iterar sobre os trechos não silenciosos e concatená-los\n",
    "for index, row in tabela_trechos_naosilenciosos.iterrows():\n",
    "    # Converter os tempos de início e fim de segundos para milissegundos\n",
    "    start_time_ms = int(row['Inicio'] * 1000)\n",
    "    end_time_ms = int(row['Fim'] * 1000)\n",
    "\n",
    "    # Extrair o trecho de áudio correspondente\n",
    "    audio_chunk = audio_clip[start_time_ms:end_time_ms]\n",
    "\n",
    "    # Concatenar o trecho ao áudio combinado\n",
    "    combined_audio += audio_chunk\n",
    "\n",
    "# Caminho para salvar o arquivo de áudio combinado\n",
    "combined_audio_path = './output/live.mp3'\n",
    "\n",
    "# Exportar o áudio combinado para um arquivo\n",
    "try:\n",
    "    combined_audio.export(combined_audio_path, format=\"mp3\")\n",
    "except FileNotFoundError:\n",
    "    os.makedirs(os.path.dirname(combined_audio_path))\n",
    "    combined_audio.export(combined_audio_path, format=\"mp3\")\n"
   ]
  },
  {
   "cell_type": "code",
   "execution_count": 12,
   "id": "c314d94f",
   "metadata": {},
   "outputs": [],
   "source": [
    "audio_file = open(combined_audio_path, \"rb\")\n",
    "#audio_file = open(path_audio, \"rb\")"
   ]
  },
  {
   "cell_type": "markdown",
   "id": "b762fd9f",
   "metadata": {},
   "source": [
    "## divida o arquivo em 10 partes iguais"
   ]
  },
  {
   "cell_type": "code",
   "execution_count": 16,
   "id": "f82cede0",
   "metadata": {},
   "outputs": [
    {
     "name": "stdout",
     "output_type": "stream",
     "text": [
      "Parte 1 do audio exportada com sucesso\n",
      "Parte 2 do audio exportada com sucesso\n",
      "Parte 3 do audio exportada com sucesso\n",
      "Parte 4 do audio exportada com sucesso\n",
      "Parte 5 do audio exportada com sucesso\n",
      "Parte 6 do audio exportada com sucesso\n",
      "Parte 7 do audio exportada com sucesso\n",
      "Parte 8 do audio exportada com sucesso\n",
      "Parte 9 do audio exportada com sucesso\n",
      "Parte 10 do audio exportada com sucesso\n"
     ]
    }
   ],
   "source": [
    "partes = []\n",
    "\n",
    "# Carregar o arquivo de áudio\n",
    "audio = AudioSegment.from_file(path_audio)\n",
    "\n",
    "# Duração total do áudio em milissegundos\n",
    "duration = len(audio)\n",
    "\n",
    "# Duração de cada parte do áudio\n",
    "part_duration = duration // 10\n",
    "\n",
    "try:\n",
    "    os.makedirs(\"Y:\\Transcription lives\\data\")\n",
    "except:\n",
    "    print(\"Pasta já criada\")\n",
    "\n",
    "# Dividir o áudio em 10 partes e salvar\n",
    "for part in range(10):\n",
    "    start_time = part * part_duration\n",
    "    end_time = (part + 1) * part_duration if (part < 9) else duration\n",
    "    new_clip = audio[start_time:end_time]\n",
    "    partes.append(new_clip)\n",
    "    if part < 9:\n",
    "        new_clip.export(f\"Y:\\Transcription lives\\data\\part_0{part+1}.mp3\", format=\"mp3\")\n",
    "    else:\n",
    "        new_clip.export(f\"Y:\\Transcription lives\\data\\part_{part+1}.mp3\", format=\"mp3\")\n",
    "    print(f\"Parte {part+1} do audio exportada com sucesso\")"
   ]
  },
  {
   "cell_type": "code",
   "execution_count": 18,
   "id": "65581f53",
   "metadata": {},
   "outputs": [],
   "source": [
    "# Diretório onde os arquivos MP3 estão localizados\n",
    "directory = 'Y:/Transcription lives/data'\n",
    "\n",
    "# Lista para armazenar os caminhos dos arquivos MP3\n",
    "mp3_files = []\n",
    "\n",
    "# Listar todos os arquivos no diretório\n",
    "for file in os.listdir(directory):\n",
    "    if file.endswith(\".mp3\"):\n",
    "        mp3_files.append(os.path.join(directory, file))"
   ]
  },
  {
   "cell_type": "markdown",
   "id": "b9b501e3",
   "metadata": {},
   "source": [
    "## Exportando a transcrição de cada parte\n",
    "Uma live de 2h vai custar aproximadamente $0,60 USD ~ $0,80 pra transcrever."
   ]
  },
  {
   "cell_type": "code",
   "execution_count": 19,
   "id": "1c992f59",
   "metadata": {},
   "outputs": [
    {
     "name": "stdout",
     "output_type": "stream",
     "text": [
      "Audio part_01.mp3 transcrito com sucesso\n",
      "Audio part_010.mp3 transcrito com sucesso\n",
      "Audio part_02.mp3 transcrito com sucesso\n",
      "Audio part_03.mp3 transcrito com sucesso\n",
      "Audio part_04.mp3 transcrito com sucesso\n",
      "Audio part_05.mp3 transcrito com sucesso\n",
      "Audio part_06.mp3 transcrito com sucesso\n",
      "Audio part_07.mp3 transcrito com sucesso\n",
      "Audio part_08.mp3 transcrito com sucesso\n",
      "Audio part_09.mp3 transcrito com sucesso\n"
     ]
    }
   ],
   "source": [
    "transcricoes = {}\n",
    "\n",
    "for mp3_file in mp3_files:\n",
    "    audio_file = open(mp3_file, \"rb\")\n",
    "    file_name = mp3_file.split('\\\\')[-1]\n",
    "    transcript = client.audio.transcriptions.create(model=\"whisper-1\", file=audio_file, response_format=\"verbose_json\")\n",
    "    audio_transcription = transcript.text\n",
    "    transcricoes[file_name] = audio_transcription + \"/n/n\"\n",
    "    print(f\"Audio {file_name} transcrito com sucesso\")"
   ]
  },
  {
   "cell_type": "code",
   "execution_count": 20,
   "id": "ed3fd93a",
   "metadata": {},
   "outputs": [
    {
     "data": {
      "text/plain": [
       "{'part_01.mp3': 'Olá pra você que tá ligado aqui no Flaggamer. Nesse feriadão do dia 2 de novembro nós estamos ao vivo pra vocês. Hoje vamos ter mais uma live retrô, inclusive é um jogo que o público do canal diversas vezes durante as lives já pediu para que eu trouxesse aqui por causa da simulação que esse jogo consegue proporcionar por causa da sua física realista do carro e é um jogo de Playstation 2. Inclusive essa semana eu tive todo o trabalho de configurar o volante no emulador do Playstation 2, o PCSX2. Consegui configurar o volante e então com conta disso hoje nós vamos jogar Entusia Professional Racing, um jogo da Konami lançado em 2005 que tinha como objetivo ser um dos concorrentes do Gran Turismo 4 que também tinha lançado no Japão um ano antes e agora lançou nesse momento da live. Então vai ser simplesmente espetacular essa live de hoje, espero que vocês gostem muito. Já estou com as minhas luvas da BAUGER já posicionadas, luvas profissionais, se você quiser utilizar, comprar, adquirir as suas luvas para você pilotar o seu G29 com muito mais conforto você também tem um link que também tá aqui no chat à sua direita e também na descrição desta live. Não esqueça de usar o cupom FLAGAMER para você ganhar 20% de desconto. Então quero ver o pessoal chegando aí na live, quem quiser conhecer esse Entusia Professional Racing que eu conheci apenas essa semana, como Igor Rodrigues, Gustavo, Richie, Lewis, Henrique, todo mundo ligar aqui no FLAGAMER. Já agradecendo aos membros que apoiam esse canal. Se você quiser participar do nosso clube de membros, clique aqui no botão embaixo seja membro. O nosso clube de membros começa a partir de R$4,99 por mês, você faz até benefícios exclusivos, com acesso antecipado a vídeos, você também pode ter direito a grupo do WhatsApp, grupo do Telegram e acesso prioritário a corridas dos inscritos e muitas outras surpresas que eu já estou preparando para os membros do canal nesse próximo mês de dezembro, assim que a corrida dos inscritos acabar, que vai ser bastante bacana. Bastante bacana também a intro do jogo, vamos botar aqui, já estamos já com o som, já com o Entusia Racing, nessa intro desse jogo incrível. O Entusia Racing para Playstation 2, olha só. A música eletrônica é bastante interessante. Vamos ter um copyright já já, mas é isso aí. Eita que freada forte, hein? Freada bacana essa. Olha só que legal, já estamos já com o nosso jogo, Entusia Professional Racing. É, meus amigos, inclusive vocês já perceberam aqui na webcam, na verdade estou utilizando o meu outro celular ali, então para vocês acompanharem esse Entusia Professional Racing. E toma a música com o som natural, hein? Ainda bem que eu não dependo mais disso para pagar a conta, hein? Se não seria complicado, hein? Ah é, acho que eu liguei essa música, acho que esse aqui era um atalho, acho que a música, tecla de atalho errada, na verdade. Bom, saquei a música errada no meio do ar, mas são coisas que acontecem, se vocês já estão percebendo, são coisas que o diretor me inventa minutos antes de entrar no ar. Mas o pessoal já entrou na intro aqui, ó. Pronto, agora sim. Carro do Mr. Bean, a minha memória era muito bom. Vamos ver se a sua memória está interessante, não sei se vocês já repararam. Eu estou aqui com a minha outra câmera, né? O meu celular que vocês vão poder acompanhar o volante, vão poder acompanhar toda a movimentação do volante que eu estiver fazendo aí durante o jogo. Espero que vocês tenham gostado aí dessa novidade aí, né? Então deixa eu só dar uma olhada aqui. Pronto, então vamos ver aqui, sorte de ter jogado no Playstation 2. É um azar de ter lançado perto do lançamento do Gran Turismo, é complicado. Bom, aqui tem os principais modos de jogo, né? Esse aqui seria meio que o modo carreira dele, do Intuition Life. Tem uma atividade mais lenta, porém mais teórica. Aí ele explicando as classes dos carros, as especificações, segmentos, ajuda, agora você pode selecionar os carros. Tem muito poucos carros no início do jogo, quem sabe faz ao vivo no Flag Gamer, muito bom. Tem o Beetle, o Bolo. E assim como no Gran Turismo, sempre você começa com carros bem lentos. Eu vou começar justamente com o carro do Mr. Bean. Pena que não tem amarelo, que era a cor do carro do Mr. Bean, mas beleza. Câmbio manual. E aqui ele tá me explicando os menus do jogo, pra você entrar numa corrida, garagem, recordes, o meu ranking. Lembrando que eu tenho que dirigir direito, ó. Tem esses pontos entusiastas que ele vai caindo quando eu erro na pilotagem, né? Quando o carro escorrega da pista, o impacto no jogo. E se meu entry point chegar a zero, eu não participo da corrida, pra você ver o nível de simulação desse jogo, né? Jogo retroscegando, aí o nível de tuning, nível de assistências. E aí já vamos começar com a primeira corrida. Explica até demais a quantidade de menus que tem disponível. E as pistas são um pouco genéricas, né? Olha, tem um Alton Hill igual o Naturismo./n/n',\n",
       " 'part_010.mp3': 'ela não tomara, ela tem que manter uma velocidade, porra que modo legal em, nossa senhora, uau nesse modo você progredindo é liberar mais carros e pistas para o modo arcade é o quanto você mantém com o acelerador emula até as travas do play 2, é o disco, queimaram mal o meu disco como eu não fui capaz de completar mano ah sim, tem que manter velocidade, nossa era melhor as licenças do gran turismo, imagina manter velocidade no controle em olha que divertido, é o jogo do radar nossa sensacional, uau meu deus do céu o que que eu ganho com esse modo de driver evolution, meu nível é 1, agora é slalom em, ou nil bitter a volta de apresentação para o nil bitter, nossa espetacular olha o ranking S em, vamos de D a S em 3 níveis agora a mesma coisa com o carro mais rápido não posso ir devagar nem rápido demais só levando um carro faz completo sentido em um jogo de corrida a balada do flagamer no feriado acho que esse modo aqui acabou a ideia dos desenvolvedores né ai fica difícil defender acabou os modos esse modo não é tão legal vendo os modos de hoje, acredito que eu terei que passar pelo nível D né vocês já viram o suficiente aqui e aqui temos a biblioteca você pode ver os replays, os profiles, os créditos temos corridas diversas se você tiver dois controles você pode jogar com seu amigo no modo diversos deixa eu tentar pela ultima vez eu queria mostrar para o ano time trial né, um ovalzinho a unica pista que não consegui nossa, come-se mickey agil em, nossa só ovo outro sequer de ovo ah não, não tem notch life aqui ah não, não tem notch life aqui não tem notch life, vamos ver se eu consigo mostrar escreva como gran turismo é um dos poucos jogos que tem um mascote pilotado e decente ai você tem todos os setores, pode fazer por setor uma volta inteira eu já vi isso em outro jogo mais recente que bugou vai bugar não emulador a pista perfeita é a pista perfeita que vocês não vão ver muito obrigado pela sua audiência aqui nessa live, pela sua paciência muito obrigado pelos likes e inscrição sexta-feira estaremos de volta aqui no flag game mostrando para vocês uma lobby de automobilista 2 que você não pode perder um grande abraço a todos e até a próxima, valeu e aí e aí/n/n',\n",
       " 'part_02.mp3': 'Vamos ver a Altum Hill da Nintuja, né? E ali embaixo estão os rankings de pontos determinados por posições E aí estão as probabilidades de um carro vencer Quanto maior o carro, né? Maior a pontuação, maior a probabilidade de você Ter o carro, né? Então, vamos mostrar a corrida do Gran Turismo 4 Não só o menu, né? Mas a música também parece um pouco E bora lá! Primeira gameplay no emulador de Play 2 de volante Pena que só tem duas câmeras Olha essa câmera que não vê nada! Primeiro toque que eu dei lá nos outros carros Vem simplesmente tirar pontos A jogabilidade do volante achei interessante Opa, alto! Olha a física! Você vira demais! Mini Cooper ali quase perdeu a traseira Você vê toda a movimentação da força G ali embaixo com a bola amarela Pro lado e pro outro Pena que esse adaptador USB do emulador do Play 2 não representa bem o post-feedback Foi uma das coisas que eu demorei um pouco pra configurar Mas o centralizador de mola faz o seu papel No Playstation 2 a gente tinha poucos jogos que suportavam o volante Geralmente era uma dúzia de jogos E o Intuja Racing era um deles Bom Rodrigo, esse jogo era bom demais Passei aqui na terra e também já perdi o Enthusiast Points Você faz muita barbeiragem e tu não corre mais E perdi no final, olha só Primeira corrida! Primeira derrota do Flamengo! Muito bom! Física muito bem feita do jogo Na verdade ali, quanto menor a probabilidade 1x3 Maior a probabilidade de vencer a corrida Ele está me informando nesse mapa Onde eu atingi a velocidade máxima Onde eu fiz ultrapassagens Os símbolos azuis claros Onde eu bati com o laranja escuro Onde eu bati com o carro Onde eu bati na pista Tem todo um feedback da sua pilotagem completa Por volta Essa foi na primeira volta E essa foi na segunda O Off Course com a seta amarela também As punições desse jogo não perdoam E agora tem um sorteio de um carro rival Ah ganhei um Pivot Type Olha só que legal Será? Ah já é um carro melhor Boa noite, o Vitor chegando Que atrasou aí no início Agora está no início da live Aí está me falando de como é que é Que é o jogo Que é o jogo Que é o jogo Que é o jogo Aí está me falando De como ele está calculando os pontos de habilidade Do jogo né Vai desde o ponto base, a distância percorrida Melhores voltas E os pontos são descontados Por causa da barbeiragem Com o carro mais pontos eu ganho Com isso eu acabei ganhando 53 pontos nessa prova Vamos lá Consegui 23 pontos Eu estou percebendo que é um joguinho bem avançado Eu estou aprendendo agora Aqui eu posso competir em outra corrida Posso descansar para recuperar Meus pontos entusiastas Deixa eu tentar mudar o carro Eu tenho dois carros Nesse modo eu acho Cadê o Honda Civic que eu ganhei Nossa senhora Aqui Vou mudar o upgrade no carro também Vamos para a segunda corrida E vamos juntar a corrida Aparentemente eu não vi Licenças aqui Escolher outra pista Vamos nessa aqui, Marco Estrada Vamos lá Depois vamos ver como faz o upgrade no carro Mas acho que eu estou com pouca grana para isso Bora para a corrida Carro, eu sou fã que nem um turco Aqui não pode bater em nada Tem que dirigir na linha Tchau/n/n',\n",
       " 'part_03.mp3': 'Que bicho inusitado, apartando aí por uma ponte. Opa! Eita, perdi o ponto. O azul vai embora. Espero que não seja um fogate, porque senão aí é fim de corrida para mim. Ih, sai de frente! Sai de frente! Sai de frente! Volta! Joga a chicane. Muito boa a dirigibilidade desse jogo. Você tem que travar o G29 em 360 graus para você conseguir pilotar esse game. Por enquanto tá bastante bacana. Bastante bacana aqui o jogo. Vamos ver. Primeira vitória do FlyGamer. O total de colisões. Já me colidi um pouquinho mais nessa prova aí. Sai por volta. Pessoal falando que é um Bugatti EB. Tem um replay, ó. Se quiser ver o replay da corrida. Qualzinho no Gran Turismo. Quando eu falei ali na largada que o Bugatti azul foi embora, foi nesse exato momento. Você pode salvar o replay ou não. Vai definindo o sorteio. Você pode ter o seu próximo carro. João Lucas chegou aqui na live. Vamos ver. PT Cruiser. Mais um carrinho. João Lucas falando. Salve, FlyGamer. Venho jogar desse jogo direto no Play 2. Achei interessante a gente conseguir os carros. O que não me agrada é o menu. Consegui. Com mais pontos eu consegui levantar o nível de tuning do carro. Melhorei meu nível. Agora posso ter 315 pontos entusiastas. E meus pontos de recuperação por corrida também. Levantou, ó. Aparentemente não tenho como melhorar. Que nível eu posso melhorar meu carro, né? É um jogo que o prédio termina. Foi isso. Já consegui 27 pontos. Derrotando jogos. Chegou agora. Aqui está onde mexe no setup os níveis de tuning. Vai melhorando. Toda configuração de carro que você pode fazer. Altura, molas, amortecedores, ângulo da roda, acambagem, relação de marchas e diferencial. Vai ter que se juntar mais uma corrida então. Essas músicas são relaxantes. O pessoal gostou das músicas, hein? Até perdi o EB110, infelizmente. Vamos conhecer um outro circuito. Heavy City. Um circuito de rua bem genérico. Bem interessante. O jogo é bastante legal. Não sei como é no controle, né? Estou testando no volante. Mas acredito que deve ter algumas ajudas que devem auxiliar na pilotagem. Estou fazendo o vídeo desse jogo agora. Você está vendo ao vivo eu jogando. Intuja Professional Racing, Magamer Brasil. Derrotando jogos. Hoje é dia que você tem que se inscrever no canal, ativar as notificações para não perder nenhuma corrida. E bora para mais uma corrida. Outro circuitoね Eita, cada coleção aqui vai perdendo um pouco E muito, muito Pedi a ele um jogo emprestado pra trazer pro canal A qualidade dos circuitos de rua desse jogo eu achei decente/n/n',\n",
       " 'part_04.mp3': 'Só acho os traçados um pouco genéricos. Os circuitos de rua do Grande Turismo 4 são superiores. Os circuitos de rua do Grande Turismo 4 são superiores. Os circuitos de rua do Grande Turismo 4 são superiores. Os circuitos de rua do Grande Turismo 4 são superiores. Os circuitos de rua do Grande Turismo 4 são superiores. 4corros que já são muitas velha. 4corros que já são muitas velha. 4corros que já são muitas velha. 4corros que já são muitas velha. 4corros que já são muitas velha. 4corros que já são muitas velha. 4corros que já são muitas velha. 4corros que já são muitas velha. 4corros que já são muitas velha. 4corros que já são muitas velha. 4corros que já são muitas velha. 4corros que já são muitas velha. 4corros que já são muitas velha. 4corros que já são muitas velha. 4corros que já são muitas velha. 4corros que já são muitas velha. 4corros que já são muitas velha. 4corros que já são muitas velha. 4corros que já são muitas velha. 4corros que já são muitas velha. 2carros que já são muitas velha. 2carros que já são muitas velha. 1corro para desfazer das mãos. 1corro para desfazer das mãos. 2carros que já são muitas velha. 2carros que já são muitas velha. Não ganhei carro nenhum. Pô jogo. Assim fica difícil jogo. Assim fica difícil. Ai ai jogo. Ganhei mais um fone./n/n',\n",
       " 'part_05.mp3': 'é mais ponto entusiasta agora melhorou o nível de duro e melhorou o pneu ou seja é sorte como eu ganhei os carros aqui porque só tinha dois carros 50-50 que eu não ganhei e vai ter um outro carro melhor acredito que não esse tipo de jogo é sofrência tem nível 3 e o todo mundo nível 1 só carro gostinha é bom jogar coisa no volante é boa Rafael o problema é configurar o emulador de Play 2 lembrando que o Play 2 hardware não suporta o G-Tech G29, estou usando o emulador de Play 2 para emular aqui o volante plug-in USB que tem você consegue emular funcionou nesse jogo funcionou no Gran Turismo 4 aqui não tem mais lávios de volante ó uma pista real hein finalmente ó a Tsukuba as corridas vão quentando assim na aleatoriedade o R4 é o grau de corridas né então se você vai competindo você vai subir no nível então daqui a mais algumas corridas eu devo já começar a competir com corridas mais rápidas com carros mais rápidos no caso o emulador que eu uso é o TCS X2 ele tá em modo de software por isso o gráfico tá meio ruimzinho mas eu não tenho nenhum glitch gráfico como eu tive no modo de hardware muito obrigado pela sua mensagem esse não é um jogo da minha infância porque eu não conheci esse jogo, olha o free-ride da Tsukuba, toque pra cá, toque pra cá, toque pra cá, toque pra lá falta uma câmera on board, só tem duas câmeras aqui, nem aquela câmera de nariz que tem no PS4 tem nesse jogo eu não acho que as músicas exclusivas para cada circuito entendo que tu eu não é ótimo logo uma pista do Japão que não é tão legalzinho assim, eu prefiro que a gente colocar Tsukuba as primeiras corridas eu consegui ganhar fácil e agora já tô começando a dar uma sofrida aqui tem que tirar tudo desse roda címbico para conseguir Board essa roda aqui é bomba de gp2 cara eu consigo me aproximar das puma na reta esquece na reta o cara vai embora tá fraco parece um jogo de início da geração do play 3 tá faltando um motor redbull aí hein acho que esse carro tá faltando um motor williams né é um Z4 é sorte a 228 cavalos é um carrinho melhor eu acho né ao quanto de colisão que eu bati no auge perdi quase os pontos que eu ganhei inacreditável já vai deixando o seu like se inscreva aqui no canal ative as notificações tá bastante legal olha só os pontinhos que eu ganhei ó, 8 pontinhos experiência quase nenhuma/n/n',\n",
       " 'part_06.mp3': 'Boa nostalgia, me lembro desse jogo há bons tempos. Acho que já está na hora de trocar de carro para escolher. Está complicado, esse tem 182 cavalos. Esse tem 228, é um carro bem melhor. Esse é 430 aí. Eu escolhi um de azul porque eu gosto de azul. Nesse tempo que eu não corri, eu recupero também os reais pontos para poder voltar a correr. Acabou, tínhamos bastantes opções de games. Mais uma sequência de vitórias. Ah, tem Paris também. Tinha Paris lá no Gran Turismo 4. Agora tem Paris aqui. Posso mudar as grades? Essa aqui é a grade 4 e essa é a grade novato também. Você pode ir mudando também. Categorias também. A C4 é bem pesada. Vamos ver como é a dirigibilidade. Você está diferente do Civic. O Civic faltava potência. Bom, esse jogo, o Ratchet, não tem nenhum enredo. Senta e corre. Olha o retão ali de Paris. Ao contrário daquela pista travada do Gran Turismo 4. Corre para a largada. Uma ópera eletrônica aí para você, Tipo Flamengo. O que é isso? O que é isso? O que é isso? O que é isso? O que é isso? Volta! Volta! Volta! A distribuição de peso sendo bem simulada. Quando você vira demais, o carro joga o peso para lá e para cá. Quando você vira demais, o carro joga o peso para lá e para cá. Nossa, que circuito louco esse. Depois de eu ficar tonto, entro uma reta... Quase me perco ali na curva, no final. Eu não conheço nenhum desses circuitos. Estou falando sobre jogos mobiles no canal. Já fiz algumas lives de jogos mobiles. Em breve trago mais, após o calendário da corrida dos inscritos, que é um pouco apertada. Nessa semana não tem Fórmula 1, então eu vou poder variar um pouco mais nas lives. A física é muito boa sim, bem realista. A Inteligência Artificial é nada espetacular, mas pelo que eu disputei na corrida passada em Sucuba, não me pareceu tão passivona, como é no Gran Turismo 4. A Inteligência Artificial é muito boa sim, mas pelo que eu disputei na corrida passada em Sucuba, não me pareceu tão passivona, como é no Gran Turismo 4. Vamos lá! Vamos lá! Não ganhei nada! Que bom! Gostamos! É, o emulador não é muito perfeito. Mas é o que temos pra hoje. A Pabllo está chamando a física do jogo bem feita. Tem até um vídeo no game, vocês vão ver a física do jogo./n/n',\n",
       " 'part_07.mp3': 'Vamos lá, vamos para mais uma corrida. Chegamos aqui no canal. Eu já mostrei boa parte das pistas, aqui é de novatos, já vai começar a repetir pistas. A gente tem 3.7% de possibilidade de ganhar, vamos ver em mim mesmo. Sim Ricardo, estou emulando o jogo. Essa é a outra câmera do jogo. Eu não sabia da existência desse jogo. Jogo da Konami, criado em 2005, concorrente do Gran Turismo 4, só que acho que vendeu pouco. O foco dele não é na parte da pista do game, então tem um monte de carros e pistas e o jogo é um pouco mais complicado do que o Honda Civic. Entendeu, eu tentei me concentrar aqui, mas na época mais fechadinha, segundo o colocado tinha o mesmo carro que eu, mas ali eu superar o Ford GT já seria um pouco otimismo demais da minha parte. Vamos ver se eu ganho esse carro, vamos lá. Ganhei o Ford GT! Que cagão é esse Flag Gamer? Caramba, ganhei o Ford GT, que legal, que legal. Estou tudo demais. Agora a apelação vai começar. Penso que o Ritmo 7 é eternamente inspirado nesse jogo. Que sorte, hein? Bateria é trocar de carro pra ver o carrapelão. Vamos lá, estou chegando aí na live, seja muito bem-vindo. Vamos em vitória, Garbage. Essas pistinhas curtas são complicadas. Ah, tem outro Ford GT ali pra ter uma competição./n/n',\n",
       " 'part_08.mp3': 'Aonde ela volta a live de F1 Challenge? Quando eu estou menos a esperar, ela volta. Deixa seu sininho já, para não perder as próximas lives. Posso estar aqui, sou eu, bem apertado agora. É um dos carros mais rápidos do jogo, mas não é um dos mais fáceis. É um dos carros mais rápidos do jogo, mas não é um dos mais fáceis. É um dos carros mais rápidos do jogo, mas não é um dos mais fáceis. É um dos carros mais rápidos do jogo, mas não é um dos mais fáceis. É um dos carros mais rápidos do jogo, mas não é um dos mais fáceis. É só o carrão tirando o Allround 4 que eu competi nessa prova, hein? É uma pichinha fácil pra esse carro. Já caiu um levãozinho, hein? Olha o Mercedão, hein? Ganhamos no Mercedão! L55 Quanto que eu bati no muro nessa pista fez com que eu ganhasse nada de pontos. É como o Espirito acabou de falar, mas eu estou com um entusiasme a pontos bem baixos. E você precisa desse pra poder fazer as corridas? Então, você pode dar um Rest aqui, ó. Eu deveria ter mais pistas reais, concordo com você. Acho que falta um pouco de pistas reais nesse jogo. Tempo variado no Wind. É, falta muito. Falta pistas, falta... Perfeito. Daqui a pouco eu vou mostrar esse ovário que o pessoal está falando que tem nesse jogo. Tem que ser em outro modo. O Wind chegando aqui na live, mostrando o Influsion Professional Race Team. E o Flag Gamer se esbarrando no muro com um forte GT. Bom, se tu lembrar do nome dessa pista que tem referência ao Initial D, rapaz, pode colocar aqui pra correr. Segura!/n/n',\n",
       " 'part_09.mp3': 'É mais simulador que o Gran Turismo 4 em termos de física sim, o William. Eu acho que eles se comparam a Centro Força. Em termos assim de jogos de hoje em dia. Foto mais rápida em fichinha pequenininha. Mais difícil de dominar o carro. Meu intruso de apoio foi quase tudo. Quase tudo. Acredito que no controle deve ser ainda bem mais difícil manter os carros. Foi o carro que eu ganhei. Ou não ganhei. Corrida que eu ganhei o fato também não ganhei o carro. Olha o Legacy. Muito bom. Estou falando ali que o jogo vendeu menos de 500 mil cópias. Acho que faltou também um pouco investimento em marketing. Investimento em marketing de Gran Turismo e ver esse jogo nem se compara. Volta com o quadrado. Vamos dar uma olhada nos outros modos que o pessoal falou. Tem uma pista ali que parece oval. Que vocês podem ver aqui no Free Racing. Aqui é um modo mais compromissado. Aqui você vê as pistas. Algumas não ficam assim desbloqueadas. Por exemplo, Speed Apple Spring. Dá duas voltas. Aqui alguns carros que ele já disponibiliza. Para você correr nesse modo. Honda Mitsubishi. Você pode ir com esses 12 carros. Nesse modo aqui você não tem como ir com os carros que você já adquiriu anteriormente. Vamos com esse carro aqui só para mostrar essa pista oval. Parece Indianápolis. Aí o grid largada. Você pode digitar o grid e botar você em quinto. Toma Rocky. Agora é Rocky. Mudamos de eletrônica para Rocky agora. Vamos ver o que tem aqui. Tivemos alguns problemas técnicos aqui. Eu acredito que se travou. Mas daqui a pouco a gente já vai voltar aqui com o jogo. Acreditável. Quando a gente ia mostrar... O carro aí. Mas enfim. Vamos ver. Agora eu já estou aqui de volta aqui no jogo. Ainda bem que eu estava utilizando o save state. Mas enfim. Coisa de emulador. Vamos ver. Não supera o escudo. Fazendo código morse. Entendedores de Gran Turismo entenderiam. Segundo. Miguel que está ali nos comentários. Será que agora posso jogar? Ou vai dar problema de novo? Só acelera, não respira. É, acho que vocês não vão ver se eu vou hoje. Acho que é a parte da ROM que está... É a parte da ROM que está arranhada no disco. É o problema da ROM que está arranhada aqui no disco. É brincadeira. O OVAL eu vou ficar devendo a vocês. O jogo não quer que eu mostre a vocês o OVAL. Então o OVAL vocês imaginam. Tem também esse modo Drive Revolution. Vou bater uma certa velocidade. A velocidade está ok. Azul está lento e laranja está muito rápido. Ocean Bridge. A compatibilidade com seu volante é o emulador que faz? Sim, Ricardo. Vamos ver o que é esse Drive Revolution aqui. Eita, o carro está errado. Ah, o carro tem que dar uma volta./n/n'}"
      ]
     },
     "execution_count": 20,
     "metadata": {},
     "output_type": "execute_result"
    }
   ],
   "source": [
    "transcricoes"
   ]
  },
  {
   "cell_type": "markdown",
   "id": "8ff60c03",
   "metadata": {},
   "source": [
    "## Exportar o dicionário para um arquivo JSON"
   ]
  },
  {
   "cell_type": "code",
   "execution_count": 21,
   "id": "664fb442",
   "metadata": {},
   "outputs": [],
   "source": [
    "with open(\"Y:/Transcription lives/data/transcription.json\", 'w', encoding='utf-8') as json_file:\n",
    "    json.dump(transcricoes, json_file, ensure_ascii=False, indent=4)"
   ]
  },
  {
   "cell_type": "markdown",
   "id": "39afdf7e",
   "metadata": {},
   "source": [
    "## Agora vai resumir cada parte e exportar em texto\n",
    "Resumir as 10 partes da live custou aproximadamente USD 0,30"
   ]
  },
  {
   "cell_type": "code",
   "execution_count": 30,
   "id": "91b62844",
   "metadata": {},
   "outputs": [],
   "source": [
    "system_msg = \"Sua missão é resumir e listar os principais pontos que o Flagamer mencionou em cada parte da live em forma de um texto impessoal e predominantemente descritivo.\""
   ]
  },
  {
   "cell_type": "code",
   "execution_count": 31,
   "id": "8b2d4f6c",
   "metadata": {},
   "outputs": [
    {
     "name": "stdout",
     "output_type": "stream",
     "text": [
      "part_01.mp3 Olá pra você que tá ligado aqui no Flaggamer. Nesse feriadão do dia 2 de novembro nós estamos ao vivo pra vocês. Hoje vamos ter mais uma live retrô, inclusive é um jogo que o público do canal diversas vezes durante as lives já pediu para que eu trouxesse aqui por causa da simulação que esse jogo consegue proporcionar por causa da sua física realista do carro e é um jogo de Playstation 2. Inclusive essa semana eu tive todo o trabalho de configurar o volante no emulador do Playstation 2, o PCSX2. Consegui configurar o volante e então com conta disso hoje nós vamos jogar Entusia Professional Racing, um jogo da Konami lançado em 2005 que tinha como objetivo ser um dos concorrentes do Gran Turismo 4 que também tinha lançado no Japão um ano antes e agora lançou nesse momento da live. Então vai ser simplesmente espetacular essa live de hoje, espero que vocês gostem muito. Já estou com as minhas luvas da BAUGER já posicionadas, luvas profissionais, se você quiser utilizar, comprar, adquirir as suas luvas para você pilotar o seu G29 com muito mais conforto você também tem um link que também tá aqui no chat à sua direita e também na descrição desta live. Não esqueça de usar o cupom FLAGAMER para você ganhar 20% de desconto. Então quero ver o pessoal chegando aí na live, quem quiser conhecer esse Entusia Professional Racing que eu conheci apenas essa semana, como Igor Rodrigues, Gustavo, Richie, Lewis, Henrique, todo mundo ligar aqui no FLAGAMER. Já agradecendo aos membros que apoiam esse canal. Se você quiser participar do nosso clube de membros, clique aqui no botão embaixo seja membro. O nosso clube de membros começa a partir de R$4,99 por mês, você faz até benefícios exclusivos, com acesso antecipado a vídeos, você também pode ter direito a grupo do WhatsApp, grupo do Telegram e acesso prioritário a corridas dos inscritos e muitas outras surpresas que eu já estou preparando para os membros do canal nesse próximo mês de dezembro, assim que a corrida dos inscritos acabar, que vai ser bastante bacana. Bastante bacana também a intro do jogo, vamos botar aqui, já estamos já com o som, já com o Entusia Racing, nessa intro desse jogo incrível. O Entusia Racing para Playstation 2, olha só. A música eletrônica é bastante interessante. Vamos ter um copyright já já, mas é isso aí. Eita que freada forte, hein? Freada bacana essa. Olha só que legal, já estamos já com o nosso jogo, Entusia Professional Racing. É, meus amigos, inclusive vocês já perceberam aqui na webcam, na verdade estou utilizando o meu outro celular ali, então para vocês acompanharem esse Entusia Professional Racing. E toma a música com o som natural, hein? Ainda bem que eu não dependo mais disso para pagar a conta, hein? Se não seria complicado, hein? Ah é, acho que eu liguei essa música, acho que esse aqui era um atalho, acho que a música, tecla de atalho errada, na verdade. Bom, saquei a música errada no meio do ar, mas são coisas que acontecem, se vocês já estão percebendo, são coisas que o diretor me inventa minutos antes de entrar no ar. Mas o pessoal já entrou na intro aqui, ó. Pronto, agora sim. Carro do Mr. Bean, a minha memória era muito bom. Vamos ver se a sua memória está interessante, não sei se vocês já repararam. Eu estou aqui com a minha outra câmera, né? O meu celular que vocês vão poder acompanhar o volante, vão poder acompanhar toda a movimentação do volante que eu estiver fazendo aí durante o jogo. Espero que vocês tenham gostado aí dessa novidade aí, né? Então deixa eu só dar uma olhada aqui. Pronto, então vamos ver aqui, sorte de ter jogado no Playstation 2. É um azar de ter lançado perto do lançamento do Gran Turismo, é complicado. Bom, aqui tem os principais modos de jogo, né? Esse aqui seria meio que o modo carreira dele, do Intuition Life. Tem uma atividade mais lenta, porém mais teórica. Aí ele explicando as classes dos carros, as especificações, segmentos, ajuda, agora você pode selecionar os carros. Tem muito poucos carros no início do jogo, quem sabe faz ao vivo no Flag Gamer, muito bom. Tem o Beetle, o Bolo. E assim como no Gran Turismo, sempre você começa com carros bem lentos. Eu vou começar justamente com o carro do Mr. Bean. Pena que não tem amarelo, que era a cor do carro do Mr. Bean, mas beleza. Câmbio manual. E aqui ele tá me explicando os menus do jogo, pra você entrar numa corrida, garagem, recordes, o meu ranking. Lembrando que eu tenho que dirigir direito, ó. Tem esses pontos entusiastas que ele vai caindo quando eu erro na pilotagem, né? Quando o carro escorrega da pista, o impacto no jogo. E se meu entry point chegar a zero, eu não participo da corrida, pra você ver o nível de simulação desse jogo, né? Jogo retroscegando, aí o nível de tuning, nível de assistências. E aí já vamos começar com a primeira corrida. Explica até demais a quantidade de menus que tem disponível. E as pistas são um pouco genéricas, né? Olha, tem um Alton Hill igual o Naturismo./n/n\n",
      "Resumo da parte part_01.mp3 gerado com sucesso\n",
      "part_010.mp3 ela não tomara, ela tem que manter uma velocidade, porra que modo legal em, nossa senhora, uau nesse modo você progredindo é liberar mais carros e pistas para o modo arcade é o quanto você mantém com o acelerador emula até as travas do play 2, é o disco, queimaram mal o meu disco como eu não fui capaz de completar mano ah sim, tem que manter velocidade, nossa era melhor as licenças do gran turismo, imagina manter velocidade no controle em olha que divertido, é o jogo do radar nossa sensacional, uau meu deus do céu o que que eu ganho com esse modo de driver evolution, meu nível é 1, agora é slalom em, ou nil bitter a volta de apresentação para o nil bitter, nossa espetacular olha o ranking S em, vamos de D a S em 3 níveis agora a mesma coisa com o carro mais rápido não posso ir devagar nem rápido demais só levando um carro faz completo sentido em um jogo de corrida a balada do flagamer no feriado acho que esse modo aqui acabou a ideia dos desenvolvedores né ai fica difícil defender acabou os modos esse modo não é tão legal vendo os modos de hoje, acredito que eu terei que passar pelo nível D né vocês já viram o suficiente aqui e aqui temos a biblioteca você pode ver os replays, os profiles, os créditos temos corridas diversas se você tiver dois controles você pode jogar com seu amigo no modo diversos deixa eu tentar pela ultima vez eu queria mostrar para o ano time trial né, um ovalzinho a unica pista que não consegui nossa, come-se mickey agil em, nossa só ovo outro sequer de ovo ah não, não tem notch life aqui ah não, não tem notch life aqui não tem notch life, vamos ver se eu consigo mostrar escreva como gran turismo é um dos poucos jogos que tem um mascote pilotado e decente ai você tem todos os setores, pode fazer por setor uma volta inteira eu já vi isso em outro jogo mais recente que bugou vai bugar não emulador a pista perfeita é a pista perfeita que vocês não vão ver muito obrigado pela sua audiência aqui nessa live, pela sua paciência muito obrigado pelos likes e inscrição sexta-feira estaremos de volta aqui no flag game mostrando para vocês uma lobby de automobilista 2 que você não pode perder um grande abraço a todos e até a próxima, valeu e aí e aí/n/n\n",
      "Resumo da parte part_010.mp3 gerado com sucesso\n",
      "part_02.mp3 Vamos ver a Altum Hill da Nintuja, né? E ali embaixo estão os rankings de pontos determinados por posições E aí estão as probabilidades de um carro vencer Quanto maior o carro, né? Maior a pontuação, maior a probabilidade de você Ter o carro, né? Então, vamos mostrar a corrida do Gran Turismo 4 Não só o menu, né? Mas a música também parece um pouco E bora lá! Primeira gameplay no emulador de Play 2 de volante Pena que só tem duas câmeras Olha essa câmera que não vê nada! Primeiro toque que eu dei lá nos outros carros Vem simplesmente tirar pontos A jogabilidade do volante achei interessante Opa, alto! Olha a física! Você vira demais! Mini Cooper ali quase perdeu a traseira Você vê toda a movimentação da força G ali embaixo com a bola amarela Pro lado e pro outro Pena que esse adaptador USB do emulador do Play 2 não representa bem o post-feedback Foi uma das coisas que eu demorei um pouco pra configurar Mas o centralizador de mola faz o seu papel No Playstation 2 a gente tinha poucos jogos que suportavam o volante Geralmente era uma dúzia de jogos E o Intuja Racing era um deles Bom Rodrigo, esse jogo era bom demais Passei aqui na terra e também já perdi o Enthusiast Points Você faz muita barbeiragem e tu não corre mais E perdi no final, olha só Primeira corrida! Primeira derrota do Flamengo! Muito bom! Física muito bem feita do jogo Na verdade ali, quanto menor a probabilidade 1x3 Maior a probabilidade de vencer a corrida Ele está me informando nesse mapa Onde eu atingi a velocidade máxima Onde eu fiz ultrapassagens Os símbolos azuis claros Onde eu bati com o laranja escuro Onde eu bati com o carro Onde eu bati na pista Tem todo um feedback da sua pilotagem completa Por volta Essa foi na primeira volta E essa foi na segunda O Off Course com a seta amarela também As punições desse jogo não perdoam E agora tem um sorteio de um carro rival Ah ganhei um Pivot Type Olha só que legal Será? Ah já é um carro melhor Boa noite, o Vitor chegando Que atrasou aí no início Agora está no início da live Aí está me falando de como é que é Que é o jogo Que é o jogo Que é o jogo Que é o jogo Aí está me falando De como ele está calculando os pontos de habilidade Do jogo né Vai desde o ponto base, a distância percorrida Melhores voltas E os pontos são descontados Por causa da barbeiragem Com o carro mais pontos eu ganho Com isso eu acabei ganhando 53 pontos nessa prova Vamos lá Consegui 23 pontos Eu estou percebendo que é um joguinho bem avançado Eu estou aprendendo agora Aqui eu posso competir em outra corrida Posso descansar para recuperar Meus pontos entusiastas Deixa eu tentar mudar o carro Eu tenho dois carros Nesse modo eu acho Cadê o Honda Civic que eu ganhei Nossa senhora Aqui Vou mudar o upgrade no carro também Vamos para a segunda corrida E vamos juntar a corrida Aparentemente eu não vi Licenças aqui Escolher outra pista Vamos nessa aqui, Marco Estrada Vamos lá Depois vamos ver como faz o upgrade no carro Mas acho que eu estou com pouca grana para isso Bora para a corrida Carro, eu sou fã que nem um turco Aqui não pode bater em nada Tem que dirigir na linha Tchau/n/n\n"
     ]
    },
    {
     "name": "stdout",
     "output_type": "stream",
     "text": [
      "Resumo da parte part_02.mp3 gerado com sucesso\n",
      "part_03.mp3 Que bicho inusitado, apartando aí por uma ponte. Opa! Eita, perdi o ponto. O azul vai embora. Espero que não seja um fogate, porque senão aí é fim de corrida para mim. Ih, sai de frente! Sai de frente! Sai de frente! Volta! Joga a chicane. Muito boa a dirigibilidade desse jogo. Você tem que travar o G29 em 360 graus para você conseguir pilotar esse game. Por enquanto tá bastante bacana. Bastante bacana aqui o jogo. Vamos ver. Primeira vitória do FlyGamer. O total de colisões. Já me colidi um pouquinho mais nessa prova aí. Sai por volta. Pessoal falando que é um Bugatti EB. Tem um replay, ó. Se quiser ver o replay da corrida. Qualzinho no Gran Turismo. Quando eu falei ali na largada que o Bugatti azul foi embora, foi nesse exato momento. Você pode salvar o replay ou não. Vai definindo o sorteio. Você pode ter o seu próximo carro. João Lucas chegou aqui na live. Vamos ver. PT Cruiser. Mais um carrinho. João Lucas falando. Salve, FlyGamer. Venho jogar desse jogo direto no Play 2. Achei interessante a gente conseguir os carros. O que não me agrada é o menu. Consegui. Com mais pontos eu consegui levantar o nível de tuning do carro. Melhorei meu nível. Agora posso ter 315 pontos entusiastas. E meus pontos de recuperação por corrida também. Levantou, ó. Aparentemente não tenho como melhorar. Que nível eu posso melhorar meu carro, né? É um jogo que o prédio termina. Foi isso. Já consegui 27 pontos. Derrotando jogos. Chegou agora. Aqui está onde mexe no setup os níveis de tuning. Vai melhorando. Toda configuração de carro que você pode fazer. Altura, molas, amortecedores, ângulo da roda, acambagem, relação de marchas e diferencial. Vai ter que se juntar mais uma corrida então. Essas músicas são relaxantes. O pessoal gostou das músicas, hein? Até perdi o EB110, infelizmente. Vamos conhecer um outro circuito. Heavy City. Um circuito de rua bem genérico. Bem interessante. O jogo é bastante legal. Não sei como é no controle, né? Estou testando no volante. Mas acredito que deve ter algumas ajudas que devem auxiliar na pilotagem. Estou fazendo o vídeo desse jogo agora. Você está vendo ao vivo eu jogando. Intuja Professional Racing, Magamer Brasil. Derrotando jogos. Hoje é dia que você tem que se inscrever no canal, ativar as notificações para não perder nenhuma corrida. E bora para mais uma corrida. Outro circuitoね Eita, cada coleção aqui vai perdendo um pouco E muito, muito Pedi a ele um jogo emprestado pra trazer pro canal A qualidade dos circuitos de rua desse jogo eu achei decente/n/n\n",
      "Resumo da parte part_03.mp3 gerado com sucesso\n",
      "part_04.mp3 Só acho os traçados um pouco genéricos. Os circuitos de rua do Grande Turismo 4 são superiores. Os circuitos de rua do Grande Turismo 4 são superiores. Os circuitos de rua do Grande Turismo 4 são superiores. Os circuitos de rua do Grande Turismo 4 são superiores. Os circuitos de rua do Grande Turismo 4 são superiores. 4corros que já são muitas velha. 4corros que já são muitas velha. 4corros que já são muitas velha. 4corros que já são muitas velha. 4corros que já são muitas velha. 4corros que já são muitas velha. 4corros que já são muitas velha. 4corros que já são muitas velha. 4corros que já são muitas velha. 4corros que já são muitas velha. 4corros que já são muitas velha. 4corros que já são muitas velha. 4corros que já são muitas velha. 4corros que já são muitas velha. 4corros que já são muitas velha. 4corros que já são muitas velha. 4corros que já são muitas velha. 4corros que já são muitas velha. 4corros que já são muitas velha. 4corros que já são muitas velha. 2carros que já são muitas velha. 2carros que já são muitas velha. 1corro para desfazer das mãos. 1corro para desfazer das mãos. 2carros que já são muitas velha. 2carros que já são muitas velha. Não ganhei carro nenhum. Pô jogo. Assim fica difícil jogo. Assim fica difícil. Ai ai jogo. Ganhei mais um fone./n/n\n",
      "Resumo da parte part_04.mp3 gerado com sucesso\n",
      "part_05.mp3 é mais ponto entusiasta agora melhorou o nível de duro e melhorou o pneu ou seja é sorte como eu ganhei os carros aqui porque só tinha dois carros 50-50 que eu não ganhei e vai ter um outro carro melhor acredito que não esse tipo de jogo é sofrência tem nível 3 e o todo mundo nível 1 só carro gostinha é bom jogar coisa no volante é boa Rafael o problema é configurar o emulador de Play 2 lembrando que o Play 2 hardware não suporta o G-Tech G29, estou usando o emulador de Play 2 para emular aqui o volante plug-in USB que tem você consegue emular funcionou nesse jogo funcionou no Gran Turismo 4 aqui não tem mais lávios de volante ó uma pista real hein finalmente ó a Tsukuba as corridas vão quentando assim na aleatoriedade o R4 é o grau de corridas né então se você vai competindo você vai subir no nível então daqui a mais algumas corridas eu devo já começar a competir com corridas mais rápidas com carros mais rápidos no caso o emulador que eu uso é o TCS X2 ele tá em modo de software por isso o gráfico tá meio ruimzinho mas eu não tenho nenhum glitch gráfico como eu tive no modo de hardware muito obrigado pela sua mensagem esse não é um jogo da minha infância porque eu não conheci esse jogo, olha o free-ride da Tsukuba, toque pra cá, toque pra cá, toque pra cá, toque pra lá falta uma câmera on board, só tem duas câmeras aqui, nem aquela câmera de nariz que tem no PS4 tem nesse jogo eu não acho que as músicas exclusivas para cada circuito entendo que tu eu não é ótimo logo uma pista do Japão que não é tão legalzinho assim, eu prefiro que a gente colocar Tsukuba as primeiras corridas eu consegui ganhar fácil e agora já tô começando a dar uma sofrida aqui tem que tirar tudo desse roda címbico para conseguir Board essa roda aqui é bomba de gp2 cara eu consigo me aproximar das puma na reta esquece na reta o cara vai embora tá fraco parece um jogo de início da geração do play 3 tá faltando um motor redbull aí hein acho que esse carro tá faltando um motor williams né é um Z4 é sorte a 228 cavalos é um carrinho melhor eu acho né ao quanto de colisão que eu bati no auge perdi quase os pontos que eu ganhei inacreditável já vai deixando o seu like se inscreva aqui no canal ative as notificações tá bastante legal olha só os pontinhos que eu ganhei ó, 8 pontinhos experiência quase nenhuma/n/n\n",
      "Resumo da parte part_05.mp3 gerado com sucesso\n",
      "part_06.mp3 Boa nostalgia, me lembro desse jogo há bons tempos. Acho que já está na hora de trocar de carro para escolher. Está complicado, esse tem 182 cavalos. Esse tem 228, é um carro bem melhor. Esse é 430 aí. Eu escolhi um de azul porque eu gosto de azul. Nesse tempo que eu não corri, eu recupero também os reais pontos para poder voltar a correr. Acabou, tínhamos bastantes opções de games. Mais uma sequência de vitórias. Ah, tem Paris também. Tinha Paris lá no Gran Turismo 4. Agora tem Paris aqui. Posso mudar as grades? Essa aqui é a grade 4 e essa é a grade novato também. Você pode ir mudando também. Categorias também. A C4 é bem pesada. Vamos ver como é a dirigibilidade. Você está diferente do Civic. O Civic faltava potência. Bom, esse jogo, o Ratchet, não tem nenhum enredo. Senta e corre. Olha o retão ali de Paris. Ao contrário daquela pista travada do Gran Turismo 4. Corre para a largada. Uma ópera eletrônica aí para você, Tipo Flamengo. O que é isso? O que é isso? O que é isso? O que é isso? O que é isso? Volta! Volta! Volta! A distribuição de peso sendo bem simulada. Quando você vira demais, o carro joga o peso para lá e para cá. Quando você vira demais, o carro joga o peso para lá e para cá. Nossa, que circuito louco esse. Depois de eu ficar tonto, entro uma reta... Quase me perco ali na curva, no final. Eu não conheço nenhum desses circuitos. Estou falando sobre jogos mobiles no canal. Já fiz algumas lives de jogos mobiles. Em breve trago mais, após o calendário da corrida dos inscritos, que é um pouco apertada. Nessa semana não tem Fórmula 1, então eu vou poder variar um pouco mais nas lives. A física é muito boa sim, bem realista. A Inteligência Artificial é nada espetacular, mas pelo que eu disputei na corrida passada em Sucuba, não me pareceu tão passivona, como é no Gran Turismo 4. A Inteligência Artificial é muito boa sim, mas pelo que eu disputei na corrida passada em Sucuba, não me pareceu tão passivona, como é no Gran Turismo 4. Vamos lá! Vamos lá! Não ganhei nada! Que bom! Gostamos! É, o emulador não é muito perfeito. Mas é o que temos pra hoje. A Pabllo está chamando a física do jogo bem feita. Tem até um vídeo no game, vocês vão ver a física do jogo./n/n\n"
     ]
    },
    {
     "name": "stdout",
     "output_type": "stream",
     "text": [
      "Resumo da parte part_06.mp3 gerado com sucesso\n",
      "part_07.mp3 Vamos lá, vamos para mais uma corrida. Chegamos aqui no canal. Eu já mostrei boa parte das pistas, aqui é de novatos, já vai começar a repetir pistas. A gente tem 3.7% de possibilidade de ganhar, vamos ver em mim mesmo. Sim Ricardo, estou emulando o jogo. Essa é a outra câmera do jogo. Eu não sabia da existência desse jogo. Jogo da Konami, criado em 2005, concorrente do Gran Turismo 4, só que acho que vendeu pouco. O foco dele não é na parte da pista do game, então tem um monte de carros e pistas e o jogo é um pouco mais complicado do que o Honda Civic. Entendeu, eu tentei me concentrar aqui, mas na época mais fechadinha, segundo o colocado tinha o mesmo carro que eu, mas ali eu superar o Ford GT já seria um pouco otimismo demais da minha parte. Vamos ver se eu ganho esse carro, vamos lá. Ganhei o Ford GT! Que cagão é esse Flag Gamer? Caramba, ganhei o Ford GT, que legal, que legal. Estou tudo demais. Agora a apelação vai começar. Penso que o Ritmo 7 é eternamente inspirado nesse jogo. Que sorte, hein? Bateria é trocar de carro pra ver o carrapelão. Vamos lá, estou chegando aí na live, seja muito bem-vindo. Vamos em vitória, Garbage. Essas pistinhas curtas são complicadas. Ah, tem outro Ford GT ali pra ter uma competição./n/n\n",
      "Resumo da parte part_07.mp3 gerado com sucesso\n",
      "part_08.mp3 Aonde ela volta a live de F1 Challenge? Quando eu estou menos a esperar, ela volta. Deixa seu sininho já, para não perder as próximas lives. Posso estar aqui, sou eu, bem apertado agora. É um dos carros mais rápidos do jogo, mas não é um dos mais fáceis. É um dos carros mais rápidos do jogo, mas não é um dos mais fáceis. É um dos carros mais rápidos do jogo, mas não é um dos mais fáceis. É um dos carros mais rápidos do jogo, mas não é um dos mais fáceis. É um dos carros mais rápidos do jogo, mas não é um dos mais fáceis. É só o carrão tirando o Allround 4 que eu competi nessa prova, hein? É uma pichinha fácil pra esse carro. Já caiu um levãozinho, hein? Olha o Mercedão, hein? Ganhamos no Mercedão! L55 Quanto que eu bati no muro nessa pista fez com que eu ganhasse nada de pontos. É como o Espirito acabou de falar, mas eu estou com um entusiasme a pontos bem baixos. E você precisa desse pra poder fazer as corridas? Então, você pode dar um Rest aqui, ó. Eu deveria ter mais pistas reais, concordo com você. Acho que falta um pouco de pistas reais nesse jogo. Tempo variado no Wind. É, falta muito. Falta pistas, falta... Perfeito. Daqui a pouco eu vou mostrar esse ovário que o pessoal está falando que tem nesse jogo. Tem que ser em outro modo. O Wind chegando aqui na live, mostrando o Influsion Professional Race Team. E o Flag Gamer se esbarrando no muro com um forte GT. Bom, se tu lembrar do nome dessa pista que tem referência ao Initial D, rapaz, pode colocar aqui pra correr. Segura!/n/n\n",
      "Resumo da parte part_08.mp3 gerado com sucesso\n",
      "part_09.mp3 É mais simulador que o Gran Turismo 4 em termos de física sim, o William. Eu acho que eles se comparam a Centro Força. Em termos assim de jogos de hoje em dia. Foto mais rápida em fichinha pequenininha. Mais difícil de dominar o carro. Meu intruso de apoio foi quase tudo. Quase tudo. Acredito que no controle deve ser ainda bem mais difícil manter os carros. Foi o carro que eu ganhei. Ou não ganhei. Corrida que eu ganhei o fato também não ganhei o carro. Olha o Legacy. Muito bom. Estou falando ali que o jogo vendeu menos de 500 mil cópias. Acho que faltou também um pouco investimento em marketing. Investimento em marketing de Gran Turismo e ver esse jogo nem se compara. Volta com o quadrado. Vamos dar uma olhada nos outros modos que o pessoal falou. Tem uma pista ali que parece oval. Que vocês podem ver aqui no Free Racing. Aqui é um modo mais compromissado. Aqui você vê as pistas. Algumas não ficam assim desbloqueadas. Por exemplo, Speed Apple Spring. Dá duas voltas. Aqui alguns carros que ele já disponibiliza. Para você correr nesse modo. Honda Mitsubishi. Você pode ir com esses 12 carros. Nesse modo aqui você não tem como ir com os carros que você já adquiriu anteriormente. Vamos com esse carro aqui só para mostrar essa pista oval. Parece Indianápolis. Aí o grid largada. Você pode digitar o grid e botar você em quinto. Toma Rocky. Agora é Rocky. Mudamos de eletrônica para Rocky agora. Vamos ver o que tem aqui. Tivemos alguns problemas técnicos aqui. Eu acredito que se travou. Mas daqui a pouco a gente já vai voltar aqui com o jogo. Acreditável. Quando a gente ia mostrar... O carro aí. Mas enfim. Vamos ver. Agora eu já estou aqui de volta aqui no jogo. Ainda bem que eu estava utilizando o save state. Mas enfim. Coisa de emulador. Vamos ver. Não supera o escudo. Fazendo código morse. Entendedores de Gran Turismo entenderiam. Segundo. Miguel que está ali nos comentários. Será que agora posso jogar? Ou vai dar problema de novo? Só acelera, não respira. É, acho que vocês não vão ver se eu vou hoje. Acho que é a parte da ROM que está... É a parte da ROM que está arranhada no disco. É o problema da ROM que está arranhada aqui no disco. É brincadeira. O OVAL eu vou ficar devendo a vocês. O jogo não quer que eu mostre a vocês o OVAL. Então o OVAL vocês imaginam. Tem também esse modo Drive Revolution. Vou bater uma certa velocidade. A velocidade está ok. Azul está lento e laranja está muito rápido. Ocean Bridge. A compatibilidade com seu volante é o emulador que faz? Sim, Ricardo. Vamos ver o que é esse Drive Revolution aqui. Eita, o carro está errado. Ah, o carro tem que dar uma volta./n/n\n",
      "Resumo da parte part_09.mp3 gerado com sucesso\n",
      "Resumo da live gerado com sucesso\n"
     ]
    }
   ],
   "source": [
    "output_texto = open(\"Y:\\Transcription lives\\data\\output.txt\", \"w\")\n",
    "\n",
    "for chave, valor in transcricoes.items():\n",
    "    # print(chave, valor)\n",
    "    user_msg = f\"{valor}\"\n",
    "    output_texto.write(f\"\\nResumo {chave}\\n:\")\n",
    "    response = client.chat.completions.create(model=\"gpt-4o\",\n",
    "                                       messages=[{\"role\": \"system\", \"content\":system_msg},\n",
    "                                                {\"role\": \"user\", \"content\":user_msg}],\n",
    "                                       temperature=0.25)\n",
    "    output_texto.write(response.choices[0].message.content)\n",
    "    output_texto.write(\"\\n\")\n",
    "    print(f\"Resumo da parte {chave} gerado com sucesso\")\n",
    "    \n",
    "output_texto.close()\n",
    "print(\"Resumo da live gerado com sucesso\")"
   ]
  },
  {
   "cell_type": "markdown",
   "id": "422689dd",
   "metadata": {},
   "source": [
    "## Agora vai pegar essas 10 partes e fazer um texto corrido"
   ]
  },
  {
   "cell_type": "code",
   "execution_count": 32,
   "id": "f463cf8f",
   "metadata": {},
   "outputs": [],
   "source": [
    "output_texto = open(\"Y:\\Transcription lives\\data\\output.txt\", \"r\")\n",
    "texto_corrido = output_texto.readlines()\n",
    "texto = ''.join(texto_corrido)"
   ]
  },
  {
   "cell_type": "code",
   "execution_count": 33,
   "id": "be6888b8",
   "metadata": {},
   "outputs": [
    {
     "data": {
      "text/plain": [
       "'\\nResumo part_01.mp3\\n:Flagamer inicia a live no feriado de 2 de novembro, destacando que será uma live retrô com o jogo Entusia Professional Racing, um título de Playstation 2 lançado pela Konami em 2005. Ele menciona que configurou um volante no emulador PCSX2 para proporcionar uma experiência mais realista, algo que o público do canal havia pedido devido à física realista do jogo. \\n\\n- **Configuração e Equipamento**: Flagamer configurou um volante no emulador PCSX2 e está usando luvas profissionais da BAUGER, promovendo um link de compra com desconto para os espectadores.\\n\\n- **Interação com o Público**: Agradece aos membros do canal e incentiva novos espectadores a se tornarem membros, destacando benefícios como acesso antecipado a vídeos, grupos exclusivos no WhatsApp e Telegram, e participação prioritária em corridas dos inscritos.\\n\\n- **Apresentação do Jogo**: Inicia o jogo Entusia Professional Racing, destacando a música eletrônica da intro e comentando sobre a física realista e os modos de jogo. \\n\\n- **Configuração da Webcam**: Utiliza um celular como segunda câmera para mostrar a movimentação do volante durante o jogo.\\n\\n- **Modos de Jogo e Carros**: Explica os principais modos de jogo, como o modo carreira \"Intuition Life\", e comenta sobre a seleção inicial de carros, começando com um carro similar ao do Mr. Bean. \\n\\n- **Mecânicas do Jogo**: Descreve as mecânicas do jogo, como os pontos entusiastas que caem com erros de pilotagem e a importância de dirigir corretamente para não ser desclassificado.\\n\\n- **Primeira Corrida**: Inicia a primeira corrida, comentando sobre a quantidade de menus e a similaridade das pistas com outras de jogos de corrida como Gran Turismo.\\n\\nFlagamer mantém um tom entusiástico e interativo, buscando engajar o público com informações detalhadas sobre o jogo e a experiência de pilotagem.\\n\\nResumo part_010.mp3\\n:Durante a live, Flagamer abordou diversos pontos sobre o jogo que estava jogando, destacando suas impressões e experiências. Abaixo estão os principais pontos mencionados:\\n\\n1. **Modo de Jogo e Progressão**:\\n   - Comentou sobre a necessidade de manter uma velocidade constante no modo de jogo.\\n   - Expressou entusiasmo pelo modo, mencionando que ao progredir, é possível liberar mais carros e pistas para o modo arcade.\\n   - Comparou a manutenção de velocidade com as licenças do Gran Turismo, destacando a dificuldade de controlar a velocidade no controle.\\n\\n2. **Experiência de Jogo**:\\n   - Descreveu o modo como \"jogo do radar\" e o achou sensacional.\\n   - Questionou o que se ganha com o modo \"Driver Evolution\" e mencionou seu nível atual (nível 1).\\n   - Comentou sobre o modo slalom e a volta de apresentação para o \"nil bitter\", achando espetacular e mencionando o ranking S.\\n   - Explicou que há três níveis de classificação, de D a S, e que agora jogaria com um carro mais rápido.\\n\\n3. **Críticas e Observações**:\\n   - Criticou a ideia dos desenvolvedores, mencionando que o modo não é tão legal comparado aos modos de hoje.\\n   - Acreditou que teria que passar pelo nível D novamente e mencionou que já havia mostrado o suficiente.\\n\\n4. **Funcionalidades e Modos Adicionais**:\\n   - Descreveu a biblioteca do jogo, onde é possível ver replays, perfis e créditos.\\n   - Mencionou a possibilidade de jogar corridas diversas com dois controles, permitindo jogar com um amigo.\\n\\n5. **Tentativas e Frustrações**:\\n   - Tentou mostrar o modo \"time trial\" e mencionou a dificuldade em completar uma pista específica.\\n   - Expressou frustração pela ausência de \"notch life\" no jogo.\\n\\n6. **Comparações e Agradecimentos**:\\n   - Comparou o jogo com Gran Turismo, mencionando que este é um dos poucos jogos com um mascote pilotado e decente.\\n   - Agradeceu a audiência, paciência, likes e inscrições dos espectadores.\\n   - Anunciou que na próxima sexta-feira estaria de volta com uma lobby de \"Automobilista 2\".\\n\\n7. **Encerramento**:\\n   - Agradeceu novamente e se despediu, convidando todos para a próxima live.\\n\\nFlagamer demonstrou uma mistura de entusiasmo e frustração ao longo da live, destacando tanto os pontos positivos quanto as limitações do jogo.\\n\\nResumo part_02.mp3\\n:### Resumo da Live do Flagamer\\n\\n**Introdução e Contexto:**\\n- Flagamer apresenta o jogo Altum Hill da Nintuja, destacando os rankings de pontos e as probabilidades de vitória dos carros.\\n- Comenta sobre a relação entre o tamanho do carro e a pontuação/probabilidade de vitória.\\n- Introduz a corrida no Gran Turismo 4, mencionando o menu e a música do jogo.\\n\\n**Primeira Gameplay:**\\n- Primeira experiência com o emulador de PlayStation 2 usando volante.\\n- Observa a limitação de apenas duas câmeras disponíveis no jogo.\\n- Primeira colisão com outros carros, resultando em perda de pontos.\\n- Avaliação positiva da jogabilidade com volante, mas nota problemas com o adaptador USB e o force feedback.\\n- Explica a física do jogo e a representação da força G na tela.\\n- Comenta sobre a configuração do centralizador de mola e a limitação de jogos de PS2 que suportam volante.\\n\\n**Experiência de Corrida:**\\n- Menciona o Enthusiast Points, que são perdidos com barbeiragens.\\n- Primeira corrida resulta em derrota, mas elogia a física do jogo.\\n- Explica a relação entre a probabilidade de vitória e os pontos.\\n- Detalha o feedback do jogo sobre a pilotagem, incluindo velocidade máxima, ultrapassagens, colisões e punições.\\n\\n**Sorteio e Novos Carros:**\\n- Participa de um sorteio e ganha um carro Pivot Type.\\n- Interage com espectadores, como Vitor, que chega atrasado.\\n- Explica o cálculo dos pontos de habilidade no jogo, incluindo pontos base, distância percorrida e melhores voltas.\\n- Pontos são descontados por barbeiragens, mas ainda assim, ganha 53 pontos na prova.\\n\\n**Preparação para a Segunda Corrida:**\\n- Decide competir em outra corrida e descansar para recuperar pontos entusiastas.\\n- Explora a possibilidade de mudar de carro e fazer upgrades, mas nota a falta de recursos financeiros.\\n- Escolhe a pista Marco Estrada para a próxima corrida.\\n- Enfatiza a necessidade de dirigir na linha e evitar colisões.\\n\\n**Conclusão:**\\n- A live termina com Flagamer se preparando para a segunda corrida, destacando a importância de uma pilotagem limpa e estratégica.\\n\\nResumo part_03.mp3\\n:Durante a live, o Flagamer abordou diversos pontos sobre sua experiência com o jogo de corrida. Aqui estão os principais tópicos mencionados:\\n\\n1. **Início da Corrida e Primeiros Desafios**:\\n   - Comentou sobre um \"bicho inusitado\" e a dificuldade de manter o controle ao passar por uma ponte.\\n   - Perdeu uma posição e mencionou a preocupação com um possível \"fogate\" que poderia encerrar a corrida.\\n\\n2. **Dirigibilidade e Configuração do Volante**:\\n   - Elogiou a dirigibilidade do jogo, destacando a necessidade de travar o volante G29 em 360 graus para uma melhor pilotagem.\\n   - Expressou satisfação com a experiência de jogo até o momento.\\n\\n3. **Colisões e Replay**:\\n   - Relatou algumas colisões durante a prova e mencionou a possibilidade de assistir ao replay da corrida, similar ao Gran Turismo.\\n   - Destacou um momento específico em que um Bugatti azul se distanciou na largada.\\n\\n4. **Interação com Espectadores**:\\n   - João Lucas, um espectador, participou da live, mencionando sua experiência com o jogo no PlayStation 2 e expressando descontentamento com o menu do jogo.\\n   - Flagamer respondeu aos comentários e continuou a interação com os espectadores.\\n\\n5. **Melhorias e Pontuação**:\\n   - Conseguiu aumentar o nível de tuning do carro, atingindo 315 pontos entusiastas e melhorando os pontos de recuperação por corrida.\\n   - Explicou que não havia mais como melhorar o carro naquele momento.\\n\\n6. **Configurações de Carro**:\\n   - Descreveu as diversas configurações de tuning disponíveis, como altura, molas, amortecedores, ângulo da roda, acambagem, relação de marchas e diferencial.\\n\\n7. **Música e Ambiente do Jogo**:\\n   - Comentou sobre as músicas relaxantes do jogo, que agradaram aos espectadores.\\n   - Perdeu um Bugatti EB110 e se preparou para explorar um novo circuito.\\n\\n8. **Exploração de Novos Circuitos**:\\n   - Apresentou o circuito \"Heavy City\", um circuito de rua genérico, mas interessante.\\n   - Elogiou a qualidade dos circuitos de rua do jogo.\\n\\n9. **Experiência com o Volante e Controle**:\\n   - Testou o jogo com um volante, mas mencionou que deve haver ajudas no controle para facilitar a pilotagem.\\n   - Indicou que estava gravando um vídeo do jogo ao vivo para o canal \"Magamer Brasil\".\\n\\n10. **Encerramento e Convite para Inscrição**:\\n    - Encorajou os espectadores a se inscreverem no canal e ativarem as notificações para não perderem nenhuma corrida.\\n    - Preparou-se para mais uma corrida, destacando a qualidade dos circuitos de rua.\\n\\nFlagamer forneceu uma visão detalhada de sua experiência com o jogo, abordando desde a jogabilidade até a interação com os espectadores e as melhorias no carro.\\n\\nResumo part_04.mp3\\n:Durante a live, Flagamer fez várias observações e comentários sobre o jogo que estava jogando. Os principais pontos mencionados foram:\\n\\n1. **Traçados dos Circuitos**:\\n   - Considerou os traçados dos circuitos um pouco genéricos.\\n   - Comparou os circuitos de rua do jogo atual com os do \"Gran Turismo 4\", afirmando que os do \"Gran Turismo 4\" são superiores.\\n\\n2. **Carros Disponíveis**:\\n   - Comentou que há muitos carros antigos no jogo, repetindo várias vezes que os carros são \"muitas velha\".\\n   - Mencionou especificamente que há \"4 carros que já são muitas velha\" e \"2 carros que já são muitas velha\".\\n\\n3. **Desempenho no Jogo**:\\n   - Expressou frustração por não ter ganhado nenhum carro novo.\\n   - Reclamou que o jogo estava dificultando seu progresso.\\n   - Demonstrou desânimo com a situação, dizendo \"Assim fica difícil jogo\".\\n\\n4. **Recompensas**:\\n   - No final, mencionou que ganhou mais um fone, sem muita empolgação.\\n\\nEsses pontos refletem as principais críticas e frustrações de Flagamer durante a live, especialmente em relação à qualidade dos circuitos e à variedade dos carros disponíveis no jogo.\\n\\nResumo part_05.mp3\\n:Durante a live, Flagamer abordou diversos tópicos relacionados ao jogo e à sua experiência com ele. Aqui estão os principais pontos mencionados:\\n\\n1. **Melhorias no Jogo**:\\n   - O nível de dificuldade aumentou e os pneus foram melhorados.\\n   - A sorte desempenhou um papel importante na obtenção de carros, com apenas dois carros 50-50 não ganhos.\\n\\n2. **Configuração do Volante**:\\n   - Comentou sobre a dificuldade de configurar o emulador de PlayStation 2 para funcionar com o volante G-Tech G29, que não é suportado pelo hardware original do PS2.\\n   - Utilizou um emulador de PlayStation 2 para emular o volante via plug-in USB, que funcionou tanto neste jogo quanto no Gran Turismo 4.\\n\\n3. **Experiência de Jogo**:\\n   - Mencionou a presença de uma pista real, Tsukuba, e como as corridas vão se tornando mais desafiadoras com o tempo.\\n   - Utiliza o emulador TCS X2 em modo de software para evitar glitches gráficos, apesar da qualidade gráfica inferior.\\n\\n4. **Nostalgia e Preferências**:\\n   - Este não é um jogo da infância dele, pois não o conhecia anteriormente.\\n   - Preferiria uma câmera on board e criticou a falta de opções de câmera, comparando com jogos de PS4.\\n\\n5. **Desempenho nas Corridas**:\\n   - As primeiras corridas foram fáceis, mas agora está enfrentando mais dificuldades.\\n   - Comentou sobre a necessidade de tirar o máximo proveito do volante para competir.\\n   - Observou que o carro atual, um Z4 com 228 cavalos, parece fraco em comparação com outros carros na reta.\\n\\n6. **Interação com o Público**:\\n   - Agradeceu as mensagens dos espectadores.\\n   - Incentivou os espectadores a deixarem likes, se inscreverem no canal e ativarem as notificações.\\n\\n7. **Desempenho e Pontuação**:\\n   - Perdeu pontos devido a colisões durante a corrida.\\n   - Ganhou poucos pontos de experiência, destacando a dificuldade crescente do jogo.\\n\\nEsses pontos resumem a experiência e as observações de Flagamer durante a live, fornecendo uma visão abrangente de sua interação com o jogo e o público.\\n\\nResumo part_06.mp3\\n:Durante a live, Flagamer abordou diversos tópicos e fez várias observações sobre o jogo e sua experiência. Aqui estão os principais pontos mencionados:\\n\\n1. **Escolha do Carro**:\\n   - Flagamer mencionou a nostalgia associada ao jogo.\\n   - Considerou trocar de carro, comparando a potência entre diferentes modelos (182 cavalos, 228 cavalos, 430 cavalos).\\n   - Optou por um carro azul, mencionando sua preferência pela cor.\\n\\n2. **Recuperação de Pontos**:\\n   - Comentou sobre a necessidade de recuperar pontos reais para voltar a correr.\\n\\n3. **Opções de Jogos**:\\n   - Lembrou que havia muitas opções de games disponíveis anteriormente.\\n   - Mencionou uma sequência de vitórias.\\n\\n4. **Circuitos e Pistas**:\\n   - Observou a presença de Paris no jogo atual, comparando com o Gran Turismo 4.\\n   - Comentou sobre a possibilidade de mudar grades e categorias (grade 4, grade novato, C4).\\n   - Descreveu a dirigibilidade dos carros, comparando com o Civic que faltava potência.\\n   - Destacou a diferença entre a pista de Paris atual e a pista travada do Gran Turismo 4.\\n\\n5. **Experiência de Corrida**:\\n   - Descreveu a sensação de correr em um circuito desconhecido e a distribuição de peso do carro.\\n   - Mencionou a física realista do jogo e a inteligência artificial, comparando com Gran Turismo 4.\\n   - Expressou surpresa e frustração em alguns momentos da corrida.\\n\\n6. **Jogos Mobiles e Lives Futuras**:\\n   - Comentou sobre a cobertura de jogos mobiles no canal e a realização de lives desses jogos.\\n   - Planejou trazer mais conteúdo após o calendário de corrida dos inscritos.\\n   - Indicou que a ausência de Fórmula 1 na semana permitiria variar mais nas lives.\\n\\n7. **Emulador e Física do Jogo**:\\n   - Reconheceu que o emulador não é perfeito, mas é o que está disponível.\\n   - Destacou a física bem feita do jogo, mencionando um vídeo que demonstra isso.\\n\\nFlagamer forneceu uma visão detalhada de sua experiência com o jogo, abordando aspectos técnicos, preferências pessoais e planos futuros para o canal.\\n\\nResumo part_07.mp3\\n:Flagamer inicia a live mencionando que está prestes a começar mais uma corrida e que já mostrou boa parte das pistas disponíveis, indicando que as pistas começarão a se repetir. Ele comenta que há uma chance de 3.7% de vitória e confirma que está emulando o jogo. \\n\\nEle revela que o jogo é da Konami, lançado em 2005, e que foi um concorrente do Gran Turismo 4, mas aparentemente teve vendas baixas. O foco do jogo não é apenas nas pistas, mas também na variedade de carros, tornando-o mais complexo que o Honda Civic.\\n\\nDurante a corrida, Flagamer se concentra e menciona que o segundo colocado tem o mesmo carro que ele, mas superar o Ford GT seria muito otimista. Surpreendentemente, ele ganha o Ford GT e expressa sua alegria e surpresa com a vitória.\\n\\nEle comenta que agora a competição ficará mais intensa e sugere que o jogo Ritmo 7 pode ter sido inspirado por este jogo. Flagamer decide trocar de carro para testar o Ford GT e dá as boas-vindas aos novos espectadores da live. Ele menciona que as pistas curtas são complicadas e observa que há outro Ford GT na competição, prometendo uma disputa acirrada.\\n\\nResumo part_08.mp3\\n:Durante a live de F1 Challenge, Flagamer abordou diversos pontos importantes:\\n\\n1. **Retorno das Lives**: Flagamer mencionou que as lives de F1 Challenge podem voltar a qualquer momento, incentivando os espectadores a ativarem as notificações para não perderem as próximas transmissões.\\n\\n2. **Desempenho dos Carros**: Reiterou várias vezes que estava dirigindo um dos carros mais rápidos do jogo, mas também destacou que não é um dos mais fáceis de controlar.\\n\\n3. **Corrida e Competição**: Comentou sobre a participação em uma prova com um carro de alto desempenho, referindo-se a uma pista que considerou fácil para o veículo. Também mencionou uma vitória com um Mercedes.\\n\\n4. **Desafios e Dificuldades**: Relatou um incidente em que bateu no muro durante uma corrida, resultando em uma perda de pontos. Expressou frustração com a pontuação baixa e a necessidade de pontos para continuar competindo.\\n\\n5. **Conteúdo do Jogo**: Concordou com um espectador sobre a falta de pistas reais no jogo, mencionando que há uma necessidade de mais variedade e autenticidade nas pistas disponíveis.\\n\\n6. **Interatividade com o Público**: Respondeu a comentários e sugestões dos espectadores, incluindo a possibilidade de mostrar um recurso específico do jogo em outro modo e a referência a uma pista inspirada no anime Initial D.\\n\\n7. **Entusiasmo e Engajamento**: Demonstrou entusiasmo e engajamento com o público, incentivando a participação e a interação durante a live.\\n\\nEsses pontos destacam a dinâmica da live, a interação com os espectadores e as opiniões de Flagamer sobre o jogo F1 Challenge.\\n\\nResumo part_09.mp3\\n:Flagamer discutiu vários aspectos do jogo de corrida que estava jogando durante a live. Aqui estão os principais pontos mencionados:\\n\\n1. **Comparação com Gran Turismo 4**: Flagamer afirmou que o jogo em questão é mais simulador em termos de física comparado ao Gran Turismo 4, mencionando que é mais difícil de dominar os carros.\\n\\n2. **Dificuldade no Controle**: Comentou que controlar os carros no jogo é difícil, especialmente no controle, e mencionou que quase tudo foi feito com um intruso de apoio.\\n\\n3. **Marketing e Vendas**: Observou que o jogo vendeu menos de 500 mil cópias e sugeriu que faltou investimento em marketing, comparando com o marketing de Gran Turismo.\\n\\n4. **Modos de Jogo**: Mostrou diferentes modos de jogo, incluindo um modo mais compromissado onde algumas pistas não estão desbloqueadas e um modo Free Racing com pistas como Speed Apple Spring.\\n\\n5. **Problemas Técnicos**: Enfrentou problemas técnicos durante a live, como travamentos, e mencionou que estava utilizando save states devido a esses problemas.\\n\\n6. **Compatibilidade com Volante**: Confirmou que a compatibilidade com o volante é gerida pelo emulador.\\n\\n7. **Drive Revolution**: Introduziu o modo Drive Revolution, explicando que envolve atingir certas velocidades, com indicadores de velocidade (azul para lento e laranja para muito rápido).\\n\\n8. **Problemas com a ROM**: Indicou que a ROM do jogo estava arranhada, o que impediu de mostrar a pista oval que parecia Indianápolis.\\n\\nEsses pontos resumem as principais discussões e eventos durante a live de Flagamer.\\n'"
      ]
     },
     "execution_count": 33,
     "metadata": {},
     "output_type": "execute_result"
    }
   ],
   "source": [
    "texto"
   ]
  },
  {
   "cell_type": "code",
   "execution_count": 34,
   "id": "cf0e2046",
   "metadata": {},
   "outputs": [],
   "source": [
    "system_msg = \"Sua missão é fazer um texto corrido de até 4000 caracteres sobre os principais pontos das 10 partes da live com estilo de texto descritivo. A parte 10 da live deve ser obrigatoriamente o parágrafo final do texto\""
   ]
  },
  {
   "cell_type": "code",
   "execution_count": 35,
   "id": "abf8f7ec",
   "metadata": {},
   "outputs": [],
   "source": [
    "user_msg = f\"{texto}\"\n",
    "response = client.chat.completions.create(model=\"gpt-4o-mini\",\n",
    "                                   messages=[{\"role\": \"system\", \"content\":system_msg},\n",
    "                                            {\"role\": \"user\", \"content\":user_msg}],\n",
    "                                   temperature=0.6)"
   ]
  },
  {
   "cell_type": "code",
   "execution_count": 36,
   "id": "6a4d52c1",
   "metadata": {},
   "outputs": [
    {
     "name": "stdout",
     "output_type": "stream",
     "text": [
      "A live do Flagamer, realizada em um feriado, trouxe um olhar nostálgico sobre o jogo \"Entusia Professional Racing\", um título de corrida do PlayStation 2 que, apesar de seu lançamento em 2005, ainda cativa os entusiastas do gênero. O streamer começou a transmissão configurando um volante no emulador PCSX2, uma escolha que prometia uma experiência mais imersiva, especialmente considerando a física realista do jogo. Com luvas profissionais da BAUGER, ele não apenas buscou proporcionar uma jogabilidade autêntica, mas também interagiu com o público, promovendo um link de compra para os espectadores.\n",
      "\n",
      "O jogo foi apresentado com entusiasmo, destacando a música eletrônica da introdução e a variedade de modos disponíveis, como o modo carreira \"Intuition Life\". Flagamer fez questão de explicar as mecânicas do jogo, como os pontos entusiastas que se perdem com erros de pilotagem, enfatizando a importância de dirigir com precisão para evitar desclassificações. Durante a primeira corrida, ele percebeu a quantidade de menus e a semelhança das pistas com outras de títulos mais populares do gênero, como Gran Turismo.\n",
      "\n",
      "À medida que a live avançava, Flagamer compartilhou suas impressões sobre a progressão no jogo, mencionando a necessidade de manter uma velocidade constante e a possibilidade de desbloquear novos carros e pistas. Ele se referiu ao \"Driver Evolution\" e ao modo slalom, expressando entusiasmo, mas também críticas sobre a falta de inovação em comparação com títulos mais modernos. A interação com os espectadores foi constante, com agradecimentos e convites para se tornarem membros do canal, aproveitando benefícios exclusivos.\n",
      "\n",
      "Flagamer também enfrentou frustrações, como dificuldades em completar certas pistas e a ausência de modos que ele considerava mais interessantes. Ele fez comparações com Gran Turismo, elogiando a jogabilidade, mas apontando falhas na biblioteca do jogo e a dificuldade em utilizar dois controles simultaneamente. Apesar de algumas críticas, ele se manteve positivo, agradecendo a audiência e anunciando futuras transmissões.\n",
      "\n",
      "A live continuou com uma análise mais detalhada dos circuitos e carros disponíveis, onde Flagamer expressou descontentamento com a repetição dos traçados e a escassez de novos veículos. A nostalgia permeou suas observações, e ele refletiu sobre a evolução dos jogos de corrida, comparando suas experiências atuais com as de sua infância.\n",
      "\n",
      "Ele também abordou a necessidade de melhorias no jogo, especialmente na configuração do volante e na experiência geral de pilotagem. A interação com o público foi um ponto alto, com Flagamer respondendo a comentários e sugestões, sempre mantendo um tom leve e engajado.\n",
      "\n",
      "Ao longo da live, ele se deparou com desafios crescentes, como colisões que resultaram em perda de pontos, mas sempre mantendo a esperança de recuperação e melhoria. O ambiente descontraído e as músicas relaxantes do jogo ajudaram a criar uma atmosfera agradável, enquanto ele explorava novos circuitos e testava diferentes carros.\n",
      "\n",
      "Finalmente, ao concluir a live, Flagamer agradeceu novamente a todos os espectadores, incentivando-os a se inscreverem no canal e a ativarem as notificações para não perderem as próximas transmissões. Ele se despediu, prometendo voltar em breve com mais conteúdos e corridas emocionantes, deixando os fãs ansiosos por mais.\n"
     ]
    }
   ],
   "source": [
    "print(response.choices[0].message.content)"
   ]
  },
  {
   "cell_type": "code",
   "execution_count": 37,
   "id": "05a36526",
   "metadata": {},
   "outputs": [],
   "source": [
    "output_texto.close()\n",
    "with open(\"Y:/Transcription lives/data/output.txt\", \"a\") as texto:\n",
    "    texto.write('\\n'+ response.choices[0].message.content + '\\n')"
   ]
  },
  {
   "cell_type": "code",
   "execution_count": null,
   "id": "1d6767cc",
   "metadata": {},
   "outputs": [],
   "source": []
  }
 ],
 "metadata": {
  "kernelspec": {
   "display_name": "Python 3 (ipykernel)",
   "language": "python",
   "name": "python3"
  },
  "language_info": {
   "codemirror_mode": {
    "name": "ipython",
    "version": 3
   },
   "file_extension": ".py",
   "mimetype": "text/x-python",
   "name": "python",
   "nbconvert_exporter": "python",
   "pygments_lexer": "ipython3",
   "version": "3.11.4"
  }
 },
 "nbformat": 4,
 "nbformat_minor": 5
}
