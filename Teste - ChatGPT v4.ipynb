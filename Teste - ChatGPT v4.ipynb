{
 "cells": [
  {
   "cell_type": "code",
   "execution_count": null,
   "id": "28700442",
   "metadata": {},
   "outputs": [],
   "source": [
    "!pip install openai"
   ]
  },
  {
   "cell_type": "code",
   "execution_count": 1,
   "id": "b6a8ba62",
   "metadata": {},
   "outputs": [],
   "source": [
    "import openai"
   ]
  },
  {
   "cell_type": "code",
   "execution_count": 2,
   "id": "60b76cfd",
   "metadata": {},
   "outputs": [],
   "source": [
    "import os\n",
    "openai.api_key = os.getenv('OPEN_AI_KEY') # captura a API-key salva no ambiente de sistema"
   ]
  },
  {
   "cell_type": "code",
   "execution_count": null,
   "id": "81cd2411",
   "metadata": {},
   "outputs": [],
   "source": [
    "# Definindo o papel de como o ChatGPT deve se comportar\n",
    "system_msg = \"Você é um roteirista para um video no YouTube. Escreva de forma mais engajada possível para manter uma audiência entre 18-35 anos assistindo ao video.\""
   ]
  },
  {
   "cell_type": "code",
   "execution_count": null,
   "id": "e71666ce",
   "metadata": {},
   "outputs": [],
   "source": [
    "# Mensagem que vou passar para o chat gpt\n",
    "user_msg = \"Resuma em um parágrafo os principais acontecimentos no Brasil que aconteceram no dia 14 de abril de 2019\""
   ]
  },
  {
   "cell_type": "code",
   "execution_count": null,
   "id": "50560852",
   "metadata": {},
   "outputs": [],
   "source": [
    "# Aqui é o código que pergunta ao chatGPT e obtem uma resposta\n",
    "\n",
    "response = openai.ChatCompletion.create(model=\"gpt-4\",\n",
    "                                       messages=[{\"role\": \"system\", \"content\":system_msg},\n",
    "                                                {\"role\": \"user\", \"content\":user_msg}])"
   ]
  },
  {
   "cell_type": "markdown",
   "id": "9b4d7bc7",
   "metadata": {},
   "source": [
    "### Formato da resposta do chatGPT\n",
    "\n",
    "Possui três parâmetros principais:  \n",
    "- **choices** onde fica a tentativa de respostas\n",
    "- **finish_reason**: se é stop quando respondeu corretamente, length se ultrapassou o numero máximo  \n",
    "de tokens, content_filter foi otimido por alguma flag ou null se o processo estiver incompleto.\n",
    "- **usage** dados sobre a quantidade de tokens usados."
   ]
  },
  {
   "cell_type": "code",
   "execution_count": null,
   "id": "c8bd0e17",
   "metadata": {},
   "outputs": [],
   "source": [
    "response"
   ]
  },
  {
   "cell_type": "markdown",
   "id": "0014d0f0",
   "metadata": {},
   "source": [
    "Navegando pelo arquivo json, podemos extrair a resposta desta forma:"
   ]
  },
  {
   "cell_type": "code",
   "execution_count": null,
   "id": "27f30df5",
   "metadata": {},
   "outputs": [],
   "source": [
    "response[\"choices\"][0][\"message\"][\"content\"]"
   ]
  },
  {
   "cell_type": "markdown",
   "id": "016530c3",
   "metadata": {},
   "source": [
    "A temperatura lida com a criatividade do chatGPT. Quanto maior a temperatura, mais criativo ele é, porém maior é o risco dele alucionar"
   ]
  },
  {
   "cell_type": "code",
   "execution_count": 7,
   "id": "b22d0862",
   "metadata": {},
   "outputs": [
    {
     "name": "stdout",
     "output_type": "stream",
     "text": [
      "1. Juventude Pulsante\n",
      "2. VibraTeen\n",
      "3. Passo Audaz\n",
      "4. Corrida Fresca\n",
      "5. InStep Juventude\n"
     ]
    }
   ],
   "source": [
    "user_msg = \"Crie 5 possíveis nomes para marca de tênis para um público alvo entre 13-18 anos. Liste em formato de número cada nome sugerido\"\n",
    "\n",
    "response = openai.ChatCompletion.create(model=\"gpt-4\",\n",
    "                                       messages=[{\"role\": \"user\", \"content\":user_msg}],\n",
    "                                       temperature=0.98)\n",
    "\n",
    "print(response[\"choices\"][0][\"message\"][\"content\"])"
   ]
  },
  {
   "cell_type": "code",
   "execution_count": 8,
   "id": "b6697c09",
   "metadata": {},
   "outputs": [
    {
     "name": "stdout",
     "output_type": "stream",
     "text": [
      "1. \"JumpJolt\"\n",
      "2. \"StrideFly\"\n",
      "3. \"RushRider\"\n",
      "4. \"PulsePace\"\n",
      "5. \"GlideGrip\"\n"
     ]
    }
   ],
   "source": [
    "user_msg = \"Crie 5 possíveis nomes para marca de tênis para um público alvo entre 13-18 anos. Liste em formato de número cada nome sugerido\"\n",
    "\n",
    "response = openai.ChatCompletion.create(model=\"gpt-4\",\n",
    "                                       messages=[{\"role\": \"user\", \"content\":user_msg}],\n",
    "                                       temperature=0.05)\n",
    "\n",
    "print(response[\"choices\"][0][\"message\"][\"content\"])"
   ]
  },
  {
   "cell_type": "markdown",
   "id": "ac68a85c",
   "metadata": {},
   "source": [
    "Eis um guideline para cada uso de temperatura:\n",
    "- **Temperatura Baixa (0.1~0.4)**: Requisições de fatos com respostas precisas\n",
    "- **Temperatura Média (0.5~0.7)**: Balanço de criatividade e consistencia\n",
    "- **Temperatura alta (0.8~1.0)**: Usado para brainstorm de ideias ou criação de conteúdo para rede social"
   ]
  },
  {
   "cell_type": "markdown",
   "id": "b0e5033b",
   "metadata": {},
   "source": [
    "A opção \"Choices\" mostra a quantidade de output de respostas geradas pelo chat GPT"
   ]
  },
  {
   "cell_type": "code",
   "execution_count": 18,
   "id": "0328dab6",
   "metadata": {},
   "outputs": [
    {
     "name": "stdout",
     "output_type": "stream",
     "text": [
      "Index 0:\n",
      "O que é um pontinho verde no canto da sala?\n",
      "\n",
      "- Uma ervilha de castigo.\n",
      "\n",
      "\n",
      "Index 1:\n",
      "O que é um pontinho verde no canto da sala?\n",
      "\n",
      "Uma ervilha de castigo.\n",
      "\n",
      "\n",
      "Index 2:\n",
      "O que é um pontinho amarelo no céu?\n",
      "\n",
      "Um Yellowfante!\n",
      "\n",
      "\n"
     ]
    }
   ],
   "source": [
    "user_msg = \"Conte uma piada sobre pontinho\"\n",
    "\n",
    "response = openai.ChatCompletion.create(model=\"gpt-4\",\n",
    "                                       messages=[{\"role\": \"user\", \"content\":user_msg}],\n",
    "                                       temperature=0.8,\n",
    "                                       n=3\n",
    "                                       )\n",
    "\n",
    "for cada_resposta in response[\"choices\"]:\n",
    "    print(f'Index {cada_resposta[\"index\"]}:\\n{cada_resposta[\"message\"][\"content\"]}\\n\\n')"
   ]
  },
  {
   "cell_type": "markdown",
   "id": "38680d09",
   "metadata": {},
   "source": [
    "A opção top_p é similar a temperatura. Menores valores escolhem apenas uma fração menor de  tokes a ser considerado, proporcionando uma resposta mais precisa e menos halucionógena"
   ]
  },
  {
   "cell_type": "code",
   "execution_count": 19,
   "id": "c1d39007",
   "metadata": {},
   "outputs": [
    {
     "name": "stdout",
     "output_type": "stream",
     "text": [
      "Margem de lucro é um indicador financeiro que representa a porcentagem de lucro que uma empresa obtém a partir de suas receitas totais. É calculada dividindo-se o lucro líquido pela receita total e multiplicando-se por 100 para obter a porcentagem. A margem de lucro é uma medida importante da rentabilidade de uma empresa e é frequentemente usada para comparar a rentabilidade entre empresas e setores.\n"
     ]
    }
   ],
   "source": [
    "user_msg = \"O que é margem de lucro?\"\n",
    "\n",
    "response = openai.ChatCompletion.create(model=\"gpt-4\",\n",
    "                                       messages=[{\"role\": \"user\", \"content\":user_msg}],\n",
    "                                       top_p=0.1)\n",
    "\n",
    "print(response[\"choices\"][0][\"message\"][\"content\"])"
   ]
  },
  {
   "cell_type": "code",
   "execution_count": 20,
   "id": "1dcb3793",
   "metadata": {},
   "outputs": [
    {
     "name": "stdout",
     "output_type": "stream",
     "text": [
      "A margem de lucro é uma métrica usada para medir a lucratividade de uma empresa. É calculada como a diferença entre o preço de venda de um produto ou serviço e os custos para produzi-lo e vendê-lo, dividida pelo preço de venda. A margem de lucro é geralmente expressa como uma porcentagem.\n",
      "\n",
      "Por exemplo, se um produto custa $100 para produzir e é vendido por $150, a margem de lucro seria de ($150-$100)/$150 = 33,33%.\n",
      "\n",
      "A margem de lucro é um indicador importante da saúde financeira de uma empresa. Uma margem de lucro alta indica que a empresa é eficiente em controlar seus custos e/ou é capaz de cobrar preços premium por seus produtos ou serviços.\n"
     ]
    }
   ],
   "source": [
    "user_msg = \"O que é margem de lucro?\"\n",
    "\n",
    "response = openai.ChatCompletion.create(model=\"gpt-4\",\n",
    "                                       messages=[{\"role\": \"user\", \"content\":user_msg}],\n",
    "                                       top_p=0.95)\n",
    "\n",
    "print(response[\"choices\"][0][\"message\"][\"content\"])"
   ]
  },
  {
   "cell_type": "markdown",
   "id": "ed73ace3",
   "metadata": {},
   "source": [
    "O atributo **\"max_tokens\"** limita a quantidade de tokens que o chatGPT pode gerar"
   ]
  },
  {
   "cell_type": "code",
   "execution_count": 23,
   "id": "3153ab3c",
   "metadata": {},
   "outputs": [
    {
     "name": "stdout",
     "output_type": "stream",
     "text": [
      "A fórmula de Baskara é usada para resolver equações do segundo grau, que têm a forma ax² + bx + c = 0. A fórmula é:\n",
      "\n",
      "x = [-b ± sqrt(b² - 4ac)] / (2a)\n",
      "\n",
      "Onde:\n",
      "\n",
      "- \"x\" são as raízes da equação (os valores de x que satisfazem a equação)\n",
      "- \"a\", \"b\" e \"c\" são\n",
      "Quantidade de tokens da pergunta: 20\n",
      "Quantidade de tokens da resposta: 100\n"
     ]
    }
   ],
   "source": [
    "user_msg = \"Como calcula a fórmula de baskara?\"\n",
    "\n",
    "response = openai.ChatCompletion.create(model=\"gpt-4\",\n",
    "                                       messages=[{\"role\": \"user\", \"content\":user_msg}],\n",
    "                                       temperature=0.25,\n",
    "                                       max_tokens=100)\n",
    "\n",
    "print(response[\"choices\"][0][\"message\"][\"content\"])\n",
    "print(f\"Quantidade de tokens da pergunta: {response['usage']['prompt_tokens']}\")\n",
    "print(f\"Quantidade de tokens da resposta: {response['usage']['completion_tokens']}\")"
   ]
  },
  {
   "cell_type": "code",
   "execution_count": 24,
   "id": "903fcedb",
   "metadata": {},
   "outputs": [
    {
     "name": "stdout",
     "output_type": "stream",
     "text": [
      "A fórmula de Bhaskara é usada para resolver equações do segundo grau, que têm a forma ax² + bx + c = 0. A fórmula é:\n",
      "\n",
      "x = [-b ± sqrt(b² - 4ac)] / 2a\n",
      "\n",
      "Onde:\n",
      "\n",
      "- \"x\" são as raízes da equação (os valores que satisfazem a equação);\n",
      "- \"a\", \"b\" e \"c\" são coeficientes da equação, onde \"a\" não pode ser zero;\n",
      "- \"sqrt\" representa a raiz quadrada.\n",
      "\n",
      "A parte \"b² - 4ac\" é chamada de \"delta\". Se delta for negativo, a equação não tem soluções reais. Se delta for zero, a equação tem uma solução real. Se delta for positivo, a equação tem duas soluções reais.\n",
      "Quantidade de tokens da pergunta: 20\n",
      "Quantidade de tokens da resposta: 190\n"
     ]
    }
   ],
   "source": [
    "user_msg = \"Como calcula a fórmula de baskara?\"\n",
    "\n",
    "response = openai.ChatCompletion.create(model=\"gpt-4\",\n",
    "                                       messages=[{\"role\": \"user\", \"content\":user_msg}],\n",
    "                                       temperature=0.25,\n",
    "                                       max_tokens=400)\n",
    "\n",
    "print(response[\"choices\"][0][\"message\"][\"content\"])\n",
    "print(f\"Quantidade de tokens da pergunta: {response['usage']['prompt_tokens']}\")\n",
    "print(f\"Quantidade de tokens da resposta: {response['usage']['completion_tokens']}\")"
   ]
  },
  {
   "cell_type": "code",
   "execution_count": null,
   "id": "d3e11f89",
   "metadata": {},
   "outputs": [],
   "source": [
    "#presency_penalty=quanto maior o valor, maior a probabilidade do modelo de falar de novos tópicos"
   ]
  },
  {
   "cell_type": "markdown",
   "id": "f0320a12",
   "metadata": {},
   "source": [
    "O **\"frequency_penalty\"** mexe com a possibilidade de repetir tokens. Quanto maior o frequency_penalty, mais variado é o vocabulário do GPT, com menor probabilidade de repetição de tokens, como visto nos exemplos abaixo."
   ]
  },
  {
   "cell_type": "code",
   "execution_count": 7,
   "id": "c33505ac",
   "metadata": {},
   "outputs": [
    {
     "name": "stdout",
     "output_type": "stream",
     "text": [
      "Resposta:\n",
      "O Japão é um país insular localizado no leste da Ásia, conhecido por sua rica cultura e longa história. É composto por 6.852 ilhas com quatro grandes ilhas: Hokkaido, Honshu (onde está localizada a capital Tóquio), Shikoku e Kyushu, formando o arco do Japão.\n",
      "\n",
      "Com uma população de mais de 126 milhões de pessoas em 2021, o Japão é o décimo primeiro país mais populoso do mundo. A língua oficial é japonês e a moeda utilizada lá é o Yen.\n",
      "\n",
      "O sistema político do Japão pode ser definido como uma monarquia constitucional com um parlamento governante conhecido como Dieta Nacional.\n",
      "\n",
      "A economia japonesa é a terceira maior economia nacional em termos de PIB nominal depois dos Estados Unidos e China. O país se destaca na área tecnológica sendo líder mundial na produção automobilística eletrônica avançada.\n",
      "\n",
      "Em relação à religião, os japoneses seguem principalmente duas vertentes: Xintoísmo ou Budismo; muitas vezes as praticam simultaneamente sem problema algum - isso ocorre porque ambas são vistas como práticas complementares ao invés opostas entre si.\n",
      " \n",
      "A cultura tradicional japonesa inclui artes únicas tais como cerimônia do chá (chado), arranjo floral (ikebana) até teatros clássicos Noh/ Kabuki além das lutas marciais que também são muito difundidas pelo mundo inteiro.\n",
      "  \n",
      "Por fim vale ressaltar que embora seja um pequeno arquipélago montanhoso tem desempenhado papel significativo na história mundial em particular durante o século XX.\n",
      "Quantidade de vezes que Japão foi mencionado:4\n"
     ]
    }
   ],
   "source": [
    "user_msg = \"Descreva sobre o Japão\"\n",
    "\n",
    "response = openai.ChatCompletion.create(model=\"gpt-4\",\n",
    "                                       messages=[{\"role\": \"user\", \"content\":user_msg}],\n",
    "                                       temperature=0.7,\n",
    "                                       frequency_penalty=2)\n",
    "\n",
    "response = response[\"choices\"][0][\"message\"][\"content\"]\n",
    "print(f\"Resposta:\\n{response}\\nQuantidade de vezes que Japão foi mencionado:{response.count('Japão')}\")"
   ]
  },
  {
   "cell_type": "code",
   "execution_count": 8,
   "id": "df05b747",
   "metadata": {},
   "outputs": [
    {
     "name": "stdout",
     "output_type": "stream",
     "text": [
      "Resposta:\n",
      "O Japão, oficialmente conhecido como Nihon ou Nippon, é um país insular localizado no leste da Ásia. É composto por 6.852 ilhas, sendo as quatro maiores: Honshu, Hokkaido, Kyushu e Shikoku. A capital do Japão é Tóquio, uma das cidades mais populosas do mundo.\n",
      "\n",
      "A história do Japão é rica e complexa, abrangendo desde a época dos Jomon, os primeiros habitantes do Japão, até a atualidade. Ao longo de sua história, o Japão experimentou períodos de isolamento e de intensa interação com outras nações, o que moldou sua cultura, economia e sociedade de formas únicas.\n",
      "\n",
      "O Japão tem uma economia altamente desenvolvida e é um dos líderes mundiais em várias indústrias, como automobilística, eletrônica e robótica. Também é conhecido por sua alta expectativa de vida, seu sistema educacional forte e sua baixa taxa de criminalidade.\n",
      "\n",
      "A cultura japonesa é diversa e distinta, com influências da China, da Coreia e do Ocidente. O país é famoso por suas contribuições para a arte, a culinária, a música, a tecnologia e o entretenimento, incluindo o anime, o manga, as artes marciais e os videogames.\n",
      "\n",
      "O Japão é uma monarquia constitucional com um sistema parlamentar de governo. O imperador é o símbolo do Estado e da unidade do povo, mas o poder político é exercido principalmente pelo primeiro-ministro e outros membros eleitos da Dieta, a legislatura bicameral do país.\n",
      "\n",
      "Em termos de geografia, o Japão é conhecido por suas belas paisagens naturais, que incluem montanhas, florestas, rios e costas litorâneas. O país também é famoso por seus muitos parques nacionais e Patrimônios Mundiais da UNESCO. No entanto, o Japão também é propenso a terremotos, tsunamis e outros desastres naturais devido à sua localização no Anel de Fogo do Pacífico. \n",
      "\n",
      "O Japão também é reconhecido por sua dedicação à preservação do meio ambiente e à sustentabilidade, com leis rigorosas de reciclagem e uma crescente dependência de fontes de energia renováveis.\n",
      "Quantidade de vezes que Japão foi mencionado:10\n"
     ]
    }
   ],
   "source": [
    "user_msg = \"Descreva sobre o Japão\"\n",
    "\n",
    "response = openai.ChatCompletion.create(model=\"gpt-4\",\n",
    "                                       messages=[{\"role\": \"user\", \"content\":user_msg}],\n",
    "                                       temperature=0.7,\n",
    "                                       frequency_penalty=0)\n",
    "\n",
    "response = response[\"choices\"][0][\"message\"][\"content\"]\n",
    "print(f\"Resposta:\\n{response}\\nQuantidade de vezes que Japão foi mencionado:{response.count('Japão')}\")"
   ]
  },
  {
   "cell_type": "code",
   "execution_count": null,
   "id": "0d2ca3d2",
   "metadata": {},
   "outputs": [],
   "source": []
  }
 ],
 "metadata": {
  "kernelspec": {
   "display_name": "Python 3 (ipykernel)",
   "language": "python",
   "name": "python3"
  },
  "language_info": {
   "codemirror_mode": {
    "name": "ipython",
    "version": 3
   },
   "file_extension": ".py",
   "mimetype": "text/x-python",
   "name": "python",
   "nbconvert_exporter": "python",
   "pygments_lexer": "ipython3",
   "version": "3.9.17"
  }
 },
 "nbformat": 4,
 "nbformat_minor": 5
}
